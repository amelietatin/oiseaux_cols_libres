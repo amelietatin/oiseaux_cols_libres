{
 "cells": [
  {
   "cell_type": "markdown",
   "metadata": {},
   "source": [
    "## Packages"
   ]
  },
  {
   "cell_type": "code",
   "execution_count": 1,
   "metadata": {},
   "outputs": [],
   "source": [
    "import pandas as pd\n",
    "import seaborn as sns\n",
    "import matplotlib.pyplot as plt"
   ]
  },
  {
   "cell_type": "markdown",
   "metadata": {},
   "source": [
    "## Open data"
   ]
  },
  {
   "cell_type": "code",
   "execution_count": 2,
   "metadata": {},
   "outputs": [],
   "source": [
    "data_hour = pd.read_csv('../raw_data/Trektellen/tableaux_finaux/data_hour_for_analysis.csv')"
   ]
  },
  {
   "cell_type": "code",
   "execution_count": 3,
   "metadata": {},
   "outputs": [
    {
     "name": "stdout",
     "output_type": "stream",
     "text": [
      "<class 'pandas.core.frame.DataFrame'>\n",
      "RangeIndex: 47336 entries, 0 to 47335\n",
      "Data columns (total 12 columns):\n",
      " #   Column      Non-Null Count  Dtype \n",
      "---  ------      --------------  ----- \n",
      " 0   date_dt     47336 non-null  object\n",
      " 1   year        47336 non-null  int64 \n",
      " 2   month       47336 non-null  int64 \n",
      " 3   day         47336 non-null  int64 \n",
      " 4   timestamp   43528 non-null  object\n",
      " 5   species     47336 non-null  object\n",
      " 6   direction1  47336 non-null  int64 \n",
      " 7   direction2  47336 non-null  int64 \n",
      " 8   local       47336 non-null  int64 \n",
      " 9   age         9478 non-null   object\n",
      " 10  sex         3455 non-null   object\n",
      " 11  plumage     920 non-null    object\n",
      "dtypes: int64(6), object(6)\n",
      "memory usage: 4.3+ MB\n"
     ]
    }
   ],
   "source": [
    "data_hour.info()"
   ]
  },
  {
   "cell_type": "code",
   "execution_count": 4,
   "metadata": {},
   "outputs": [
    {
     "data": {
      "text/plain": [
       "array([nan, '1', 'I', 'A', 'S', 'J', '4', '3', '2', 'Non-Juv',\n",
       "       'non_adult'], dtype=object)"
      ]
     },
     "execution_count": 4,
     "metadata": {},
     "output_type": "execute_result"
    }
   ],
   "source": [
    "data_hour.age.unique()"
   ]
  },
  {
   "cell_type": "code",
   "execution_count": 5,
   "metadata": {},
   "outputs": [
    {
     "name": "stdout",
     "output_type": "stream",
     "text": [
      "<class 'pandas.core.frame.DataFrame'>\n",
      "RangeIndex: 47336 entries, 0 to 47335\n",
      "Data columns (total 12 columns):\n",
      " #   Column      Non-Null Count  Dtype \n",
      "---  ------      --------------  ----- \n",
      " 0   date_dt     47336 non-null  object\n",
      " 1   year        47336 non-null  int64 \n",
      " 2   month       47336 non-null  int64 \n",
      " 3   day         47336 non-null  int64 \n",
      " 4   timestamp   43528 non-null  object\n",
      " 5   species     47336 non-null  object\n",
      " 6   direction1  47336 non-null  int64 \n",
      " 7   direction2  47336 non-null  int64 \n",
      " 8   local       47336 non-null  int64 \n",
      " 9   age         9478 non-null   object\n",
      " 10  sex         3455 non-null   object\n",
      " 11  plumage     920 non-null    object\n",
      "dtypes: int64(6), object(6)\n",
      "memory usage: 4.3+ MB\n"
     ]
    }
   ],
   "source": [
    "data_hour.info()"
   ]
  },
  {
   "cell_type": "markdown",
   "metadata": {},
   "source": [
    "## Keep only 2023 and migrating species"
   ]
  },
  {
   "cell_type": "code",
   "execution_count": 56,
   "metadata": {},
   "outputs": [
    {
     "data": {
      "text/plain": [
       "Index(['date_dt', 'year', 'month', 'day', 'timestamp', 'species', 'direction1',\n",
       "       'direction2', 'local', 'age', 'sex', 'plumage'],\n",
       "      dtype='object')"
      ]
     },
     "execution_count": 56,
     "metadata": {},
     "output_type": "execute_result"
    }
   ],
   "source": [
    "data_hour_2023 = data_hour[data_hour['year'].isin([2023])]\n",
    "data_hour_2023.columns"
   ]
  },
  {
   "cell_type": "code",
   "execution_count": 15,
   "metadata": {},
   "outputs": [
    {
     "data": {
      "text/plain": [
       "array(['Hirondelle de rivage', 'Martinet noir', 'Faucon crécerelle',\n",
       "       'Aigle royal', 'Buse variable', 'Circaète Jean-le-Blanc',\n",
       "       'Vautour fauve', 'Milan royal', 'Milan noir',\n",
       "       'Hirondelle de fenêtre', 'Épervier d’Europe', 'Gypaète barbu',\n",
       "       'Tarier des prés', 'Crave à bec rouge', 'corvidé spec.',\n",
       "       'Pieris species', 'Faucon crécerellette', 'Aigle botté',\n",
       "       'Vautour percnoptère', 'Bruant jaune', 'Linotte mélodieuse',\n",
       "       'Grand Corbeau', 'Corneille noire', 'Pie bavarde',\n",
       "       'Bondrée apivore', 'Faucon pèlerin', 'Faucon hobereau',\n",
       "       'Balbuzard pêcheur', 'Hirondelle rustique', 'Busard des roseaux',\n",
       "       'Vautour moine', 'Pipit des arbres', 'Pipit farlouse', 'Souci',\n",
       "       'Paon du jour', 'Faucon crécerelle / Faucon crécerellette',\n",
       "       'Morio', 'Vulcain', 'Pipit spioncelle',\n",
       "       'Bergeronnette printanière', 'Bergeronnette grise',\n",
       "       'Cisticole des joncs', 'Gobemouche noir', 'Mésange noire',\n",
       "       'Busard cendré/pâle', 'Machaon', 'Hirondelle rousseline',\n",
       "       'Rougequeue noir', 'Serin cini', 'hirondelle spec.',\n",
       "       'Grand Cormoran', 'Cigogne noire', 'Citron',\n",
       "       'Martinet à ventre blanc', 'Pigeon ramier',\n",
       "       'Hirondelle de rochers', 'Pie-grièche écorcheur', 'Bruant fou',\n",
       "       'Bouvreuil pivoine', 'Pipit rousseline', 'Guêpier d’Europe',\n",
       "       'Pigeon colombin', 'Busard cendré', 'Busard Saint-Martin',\n",
       "       'Goéland leucophée', 'Pinson des arbres',\n",
       "       'Bergeronnette des ruisseaux', 'Traquet motteux', 'Pouillot fitis',\n",
       "       'Rougegorge familier', 'Grive draine', 'busard spec.',\n",
       "       'Faucon d’Éléonore', 'Robert-le-Diable', 'Faucon émerillon',\n",
       "       'Chardonneret élégant', 'Tarier pâtre', 'Busard pâle',\n",
       "       'Autour des palombes', 'Venturon montagnard',\n",
       "       'Bec-croisé des sapins', 'Coucou gris', 'Piéride du chou',\n",
       "       'Verdier d’Europe', 'Héron cendré', 'Tarin des aulnes',\n",
       "       'Alouette des champs', 'Moro-Sphinx', 'Cigogne blanche',\n",
       "       'MediumRaptor', 'Buse ou Bondrée', 'Accenteur mouchet',\n",
       "       'Mésange charbonnière', 'Roitelet huppé', 'Mésange huppée',\n",
       "       'Sympétrum de Fonscolombe', 'pigeon spec.', 'Moineau domestique',\n",
       "       'Étourneau sansonnet', 'faucon spec.', 'martinet spec.',\n",
       "       'Élanion blac', 'Anax porte-selle', 'Piéride de la rave',\n",
       "       'rapace spec.', 'Pigeon biset domestique', 'Caille des blés',\n",
       "       'Geai des chênes', 'Flambé', 'goéland spec.', 'Piéride du navet',\n",
       "       'Bruant ortolan', 'Bergeronnette flavéole', 'Vanesse du chardon',\n",
       "       'Roitelet triple-bandeau', 'Pouillot véloce', 'Bruant zizi',\n",
       "       'Pic noir', 'Merle à plastron', 'Grue cendrée',\n",
       "       'Chocard à bec jaune', 'Mésange à longue queue',\n",
       "       'Chevalier cul-blanc', 'Aigle de Bonelli'], dtype=object)"
      ]
     },
     "execution_count": 15,
     "metadata": {},
     "output_type": "execute_result"
    }
   ],
   "source": [
    "# How many species have sex info?\n",
    "data_hour_age_2023 = data_hour_2023[['date_dt', 'timestamp','species', 'age', 'direction1']]\n",
    "#data_hour_age = data_hour_age.loc[data_hour_age['direction1'] > 0]\n",
    "data_hour_age_2023.species.unique()"
   ]
  },
  {
   "cell_type": "code",
   "execution_count": 16,
   "metadata": {},
   "outputs": [
    {
     "data": {
      "text/plain": [
       "array(['Faucon crécerelle / Faucon crécerellette', 'Épervier d’Europe',\n",
       "       'Busard des roseaux', 'Bondrée apivore', 'Busard Saint-Martin',\n",
       "       'Busard cendré/pâle', 'Faucon crécerelle', 'Coucou gris',\n",
       "       'Busard cendré', 'Circaète Jean-le-Blanc', 'Balbuzard pêcheur',\n",
       "       'Citron', 'Souci', 'Faucon crécerellette', 'Faucon émerillon',\n",
       "       'Bruant ortolan', 'Busard pâle'], dtype=object)"
      ]
     },
     "execution_count": 16,
     "metadata": {},
     "output_type": "execute_result"
    }
   ],
   "source": [
    "data_hour_sex_2023 = data_hour_2023[['date_dt', 'timestamp','species', 'sex', 'direction1']].dropna()\n",
    "data_hour_sex_2023 = data_hour_sex_2023.loc[data_hour_sex_2023['direction1'] > 0]\n",
    "data_hour_sex_2023.species.unique()"
   ]
  },
  {
   "cell_type": "code",
   "execution_count": 17,
   "metadata": {},
   "outputs": [
    {
     "data": {
      "text/plain": [
       "array(['Aigle botté', 'Buse variable', 'Bondrée apivore', 'Milan noir'],\n",
       "      dtype=object)"
      ]
     },
     "execution_count": 17,
     "metadata": {},
     "output_type": "execute_result"
    }
   ],
   "source": [
    "data_hour_plumage_2023 = data_hour_2023[['date_dt', 'timestamp','species', 'plumage', 'direction1']].dropna()\n",
    "data_hour_plumage_2023 = data_hour_plumage_2023.loc[data_hour_plumage_2023['direction1'] > 0]\n",
    "data_hour_plumage_2023.species.unique()"
   ]
  },
  {
   "cell_type": "code",
   "execution_count": null,
   "metadata": {},
   "outputs": [],
   "source": [
    "# Plus\n",
    "# Milan noir: âge\n",
    "# Bondrée apivore: âge, sex\n",
    "# Aigle boté plumage"
   ]
  },
  {
   "cell_type": "markdown",
   "metadata": {},
   "source": [
    "## Milan noir classes d'âges pour 2023 (avec et sans indeterminés)"
   ]
  },
  {
   "cell_type": "code",
   "execution_count": 18,
   "metadata": {},
   "outputs": [
    {
     "data": {
      "text/html": [
       "<div>\n",
       "<style scoped>\n",
       "    .dataframe tbody tr th:only-of-type {\n",
       "        vertical-align: middle;\n",
       "    }\n",
       "\n",
       "    .dataframe tbody tr th {\n",
       "        vertical-align: top;\n",
       "    }\n",
       "\n",
       "    .dataframe thead th {\n",
       "        text-align: right;\n",
       "    }\n",
       "</style>\n",
       "<table border=\"1\" class=\"dataframe\">\n",
       "  <thead>\n",
       "    <tr style=\"text-align: right;\">\n",
       "      <th></th>\n",
       "      <th>date_dt</th>\n",
       "      <th>timestamp</th>\n",
       "      <th>species</th>\n",
       "      <th>age</th>\n",
       "      <th>direction1</th>\n",
       "    </tr>\n",
       "  </thead>\n",
       "  <tbody>\n",
       "    <tr>\n",
       "      <th>35224</th>\n",
       "      <td>2023-01-08</td>\n",
       "      <td>17:46:39</td>\n",
       "      <td>Hirondelle de rivage</td>\n",
       "      <td>NaN</td>\n",
       "      <td>1</td>\n",
       "    </tr>\n",
       "    <tr>\n",
       "      <th>35225</th>\n",
       "      <td>2023-01-08</td>\n",
       "      <td>10:00:00</td>\n",
       "      <td>Martinet noir</td>\n",
       "      <td>NaN</td>\n",
       "      <td>9</td>\n",
       "    </tr>\n",
       "    <tr>\n",
       "      <th>35226</th>\n",
       "      <td>2023-01-08</td>\n",
       "      <td>11:00:00</td>\n",
       "      <td>Martinet noir</td>\n",
       "      <td>NaN</td>\n",
       "      <td>54</td>\n",
       "    </tr>\n",
       "    <tr>\n",
       "      <th>35227</th>\n",
       "      <td>2023-01-08</td>\n",
       "      <td>14:00:00</td>\n",
       "      <td>Martinet noir</td>\n",
       "      <td>NaN</td>\n",
       "      <td>71</td>\n",
       "    </tr>\n",
       "    <tr>\n",
       "      <th>35228</th>\n",
       "      <td>2023-01-08</td>\n",
       "      <td>09:06:00</td>\n",
       "      <td>Faucon crécerelle</td>\n",
       "      <td>NaN</td>\n",
       "      <td>0</td>\n",
       "    </tr>\n",
       "  </tbody>\n",
       "</table>\n",
       "</div>"
      ],
      "text/plain": [
       "          date_dt timestamp               species  age  direction1\n",
       "35224  2023-01-08  17:46:39  Hirondelle de rivage  NaN           1\n",
       "35225  2023-01-08  10:00:00         Martinet noir  NaN           9\n",
       "35226  2023-01-08  11:00:00         Martinet noir  NaN          54\n",
       "35227  2023-01-08  14:00:00         Martinet noir  NaN          71\n",
       "35228  2023-01-08  09:06:00     Faucon crécerelle  NaN           0"
      ]
     },
     "execution_count": 18,
     "metadata": {},
     "output_type": "execute_result"
    }
   ],
   "source": [
    "data_hour_age_2023.head()"
   ]
  },
  {
   "cell_type": "code",
   "execution_count": 31,
   "metadata": {},
   "outputs": [
    {
     "name": "stderr",
     "output_type": "stream",
     "text": [
      "/var/folders/p7/90k2qrqs4fvbt30f5t6x0glc0000gn/T/ipykernel_59306/4088945208.py:9: SettingWithCopyWarning: \n",
      "A value is trying to be set on a copy of a slice from a DataFrame\n",
      "\n",
      "See the caveats in the documentation: https://pandas.pydata.org/pandas-docs/stable/user_guide/indexing.html#returning-a-view-versus-a-copy\n",
      "  milan_noir_hour_age_2023.fillna('indetermine', inplace = True) # fill NA with 'indetermine'\n",
      "/var/folders/p7/90k2qrqs4fvbt30f5t6x0glc0000gn/T/ipykernel_59306/4088945208.py:10: SettingWithCopyWarning: \n",
      "A value is trying to be set on a copy of a slice from a DataFrame\n",
      "\n",
      "See the caveats in the documentation: https://pandas.pydata.org/pandas-docs/stable/user_guide/indexing.html#returning-a-view-versus-a-copy\n",
      "  milan_noir_hour_age_2023.replace('I', 'sup 1 an', inplace=True)\n",
      "/var/folders/p7/90k2qrqs4fvbt30f5t6x0glc0000gn/T/ipykernel_59306/4088945208.py:11: SettingWithCopyWarning: \n",
      "A value is trying to be set on a copy of a slice from a DataFrame\n",
      "\n",
      "See the caveats in the documentation: https://pandas.pydata.org/pandas-docs/stable/user_guide/indexing.html#returning-a-view-versus-a-copy\n",
      "  milan_noir_hour_age_2023.replace('A', 'adult', inplace=True)\n",
      "/var/folders/p7/90k2qrqs4fvbt30f5t6x0glc0000gn/T/ipykernel_59306/4088945208.py:12: SettingWithCopyWarning: \n",
      "A value is trying to be set on a copy of a slice from a DataFrame\n",
      "\n",
      "See the caveats in the documentation: https://pandas.pydata.org/pandas-docs/stable/user_guide/indexing.html#returning-a-view-versus-a-copy\n",
      "  milan_noir_hour_age_2023.replace('1', 'premiere année', inplace=True)\n",
      "/var/folders/p7/90k2qrqs4fvbt30f5t6x0glc0000gn/T/ipykernel_59306/4088945208.py:13: SettingWithCopyWarning: \n",
      "A value is trying to be set on a copy of a slice from a DataFrame\n",
      "\n",
      "See the caveats in the documentation: https://pandas.pydata.org/pandas-docs/stable/user_guide/indexing.html#returning-a-view-versus-a-copy\n",
      "  milan_noir_hour_age_2023.replace('J', 'juvenile', inplace=True)\n"
     ]
    },
    {
     "data": {
      "text/plain": [
       "array(['indetermine', 'sup 1 an', 'premiere année', 'adult', 'juvenile'],\n",
       "      dtype=object)"
      ]
     },
     "execution_count": 31,
     "metadata": {},
     "output_type": "execute_result"
    }
   ],
   "source": [
    "milan_noir_hour_age_2023 = data_hour_age_2023[data_hour_age_2023['species'].isin(['Milan noir'])] # only milan noir\n",
    "\n",
    "# I = sup 1 an\n",
    "# A = adult\n",
    "# 1 = premiere annee\n",
    "# J = juvenile\n",
    "# remove deuxieme annee\n",
    "\n",
    "milan_noir_hour_age_2023.fillna('indetermine', inplace = True) # fill NA with 'indetermine'\n",
    "milan_noir_hour_age_2023.replace('I', 'sup 1 an', inplace=True)\n",
    "milan_noir_hour_age_2023.replace('A', 'adult', inplace=True)\n",
    "milan_noir_hour_age_2023.replace('1', 'premiere année', inplace=True)\n",
    "milan_noir_hour_age_2023.replace('J', 'juvenile', inplace=True)\n",
    "milan_noir_hour_age_2023 = milan_noir_hour_age_2023.loc[milan_noir_hour_age_2023['age'] != '2']\n",
    "\n",
    "milan_noir_hour_age_2023.age.unique()"
   ]
  },
  {
   "cell_type": "code",
   "execution_count": 37,
   "metadata": {},
   "outputs": [],
   "source": [
    "n_obs_age_milan_noir_NA = milan_noir_hour_age_2023.groupby(['age'])['direction1'].sum().reset_index()\n",
    "\n",
    "n_obs_age_milan_noir_sans_NA = milan_noir_hour_age_2023.loc[milan_noir_hour_age_2023['age'] != 'indetermine']\n",
    "n_obs_age_milan_noir_sans_NA = n_obs_age_milan_noir_sans_NA.groupby(['age'])['direction1'].sum().reset_index()"
   ]
  },
  {
   "cell_type": "code",
   "execution_count": 38,
   "metadata": {},
   "outputs": [
    {
     "data": {
      "text/html": [
       "<div>\n",
       "<style scoped>\n",
       "    .dataframe tbody tr th:only-of-type {\n",
       "        vertical-align: middle;\n",
       "    }\n",
       "\n",
       "    .dataframe tbody tr th {\n",
       "        vertical-align: top;\n",
       "    }\n",
       "\n",
       "    .dataframe thead th {\n",
       "        text-align: right;\n",
       "    }\n",
       "</style>\n",
       "<table border=\"1\" class=\"dataframe\">\n",
       "  <thead>\n",
       "    <tr style=\"text-align: right;\">\n",
       "      <th></th>\n",
       "      <th>age</th>\n",
       "      <th>direction1</th>\n",
       "    </tr>\n",
       "  </thead>\n",
       "  <tbody>\n",
       "    <tr>\n",
       "      <th>0</th>\n",
       "      <td>adult</td>\n",
       "      <td>152</td>\n",
       "    </tr>\n",
       "    <tr>\n",
       "      <th>1</th>\n",
       "      <td>indetermine</td>\n",
       "      <td>62066</td>\n",
       "    </tr>\n",
       "    <tr>\n",
       "      <th>2</th>\n",
       "      <td>juvenile</td>\n",
       "      <td>38</td>\n",
       "    </tr>\n",
       "    <tr>\n",
       "      <th>3</th>\n",
       "      <td>premiere année</td>\n",
       "      <td>5234</td>\n",
       "    </tr>\n",
       "    <tr>\n",
       "      <th>4</th>\n",
       "      <td>sup 1 an</td>\n",
       "      <td>11859</td>\n",
       "    </tr>\n",
       "  </tbody>\n",
       "</table>\n",
       "</div>"
      ],
      "text/plain": [
       "              age  direction1\n",
       "0           adult         152\n",
       "1     indetermine       62066\n",
       "2        juvenile          38\n",
       "3  premiere année        5234\n",
       "4        sup 1 an       11859"
      ]
     },
     "execution_count": 38,
     "metadata": {},
     "output_type": "execute_result"
    }
   ],
   "source": [
    "n_obs_age_milan_noir_NA"
   ]
  },
  {
   "cell_type": "code",
   "execution_count": 39,
   "metadata": {},
   "outputs": [
    {
     "data": {
      "text/html": [
       "<div>\n",
       "<style scoped>\n",
       "    .dataframe tbody tr th:only-of-type {\n",
       "        vertical-align: middle;\n",
       "    }\n",
       "\n",
       "    .dataframe tbody tr th {\n",
       "        vertical-align: top;\n",
       "    }\n",
       "\n",
       "    .dataframe thead th {\n",
       "        text-align: right;\n",
       "    }\n",
       "</style>\n",
       "<table border=\"1\" class=\"dataframe\">\n",
       "  <thead>\n",
       "    <tr style=\"text-align: right;\">\n",
       "      <th></th>\n",
       "      <th>age</th>\n",
       "      <th>direction1</th>\n",
       "    </tr>\n",
       "  </thead>\n",
       "  <tbody>\n",
       "    <tr>\n",
       "      <th>0</th>\n",
       "      <td>adult</td>\n",
       "      <td>152</td>\n",
       "    </tr>\n",
       "    <tr>\n",
       "      <th>1</th>\n",
       "      <td>juvenile</td>\n",
       "      <td>38</td>\n",
       "    </tr>\n",
       "    <tr>\n",
       "      <th>2</th>\n",
       "      <td>premiere année</td>\n",
       "      <td>5234</td>\n",
       "    </tr>\n",
       "    <tr>\n",
       "      <th>3</th>\n",
       "      <td>sup 1 an</td>\n",
       "      <td>11859</td>\n",
       "    </tr>\n",
       "  </tbody>\n",
       "</table>\n",
       "</div>"
      ],
      "text/plain": [
       "              age  direction1\n",
       "0           adult         152\n",
       "1        juvenile          38\n",
       "2  premiere année        5234\n",
       "3        sup 1 an       11859"
      ]
     },
     "execution_count": 39,
     "metadata": {},
     "output_type": "execute_result"
    }
   ],
   "source": [
    "n_obs_age_milan_noir_sans_NA"
   ]
  },
  {
   "cell_type": "code",
   "execution_count": 35,
   "metadata": {},
   "outputs": [
    {
     "data": {
      "text/plain": [
       "<Figure size 1000x500 with 0 Axes>"
      ]
     },
     "metadata": {},
     "output_type": "display_data"
    },
    {
     "data": {
      "image/png": "[encoded data removed]",
      "text/plain": [
       "<Figure size 640x480 with 1 Axes>"
      ]
     },
     "metadata": {},
     "output_type": "display_data"
    }
   ],
   "source": [
    "# Figure all years\n",
    "plt.figure(figsize=(10,5))\n",
    "\n",
    "fig, ax = plt.subplots()\n",
    "ax.pie(n_obs_age_milan_noir_NA.direction1,\n",
    "       labels=n_obs_age_milan_noir_NA.age,\n",
    "       labeldistance=1.15,\n",
    "       autopct='%1.1f%%',  # Add percentage labels\n",
    "       wedgeprops={'linewidth': 1, 'edgecolor': 'white'})\n",
    "\n",
    "plt.title(\"Proportion de chaque classe d'âge observée pour le milan noir en migration en 2023\", fontsize=10);\n",
    "\n",
    "plt.savefig('../figures/age_sex_plumage/age/prop_age_milan_noir_migration_avec_NA_2023.png')"
   ]
  },
  {
   "cell_type": "code",
   "execution_count": 49,
   "metadata": {},
   "outputs": [
    {
     "data": {
      "text/plain": [
       "<Figure size 1000x500 with 0 Axes>"
      ]
     },
     "metadata": {},
     "output_type": "display_data"
    },
    {
     "data": {
      "image/png": "[encoded data removed]",
      "text/plain": [
       "<Figure size 640x480 with 1 Axes>"
      ]
     },
     "metadata": {},
     "output_type": "display_data"
    }
   ],
   "source": [
    "# Figure all years\n",
    "plt.figure(figsize=(10,5))\n",
    "\n",
    "fig, ax = plt.subplots()\n",
    "ax.pie(n_obs_age_milan_noir_sans_NA.direction1,\n",
    "       labels=n_obs_age_milan_noir_sans_NA.age,\n",
    "       labeldistance=1.15,\n",
    "       autopct='%1.1f%%',  # Add percentage labels\n",
    "       wedgeprops={'linewidth': 1, 'edgecolor': 'white'},\n",
    "       textprops={'fontsize': 9})\n",
    "\n",
    "plt.title(\"Proportion de chaque classe d'âge observée pour le milan noir en migration en 2023 sans les indeterminés\", fontsize=8);\n",
    "\n",
    "plt.savefig('../figures/age_sex_plumage/age/prop_age_milan_noir_migration_sans_NA_2023.png')"
   ]
  },
  {
   "cell_type": "markdown",
   "metadata": {},
   "source": [
    "## Bondrée apivore âge et sex"
   ]
  },
  {
   "cell_type": "markdown",
   "metadata": {},
   "source": [
    "### Age"
   ]
  },
  {
   "cell_type": "code",
   "execution_count": 50,
   "metadata": {},
   "outputs": [
    {
     "data": {
      "text/html": [
       "<div>\n",
       "<style scoped>\n",
       "    .dataframe tbody tr th:only-of-type {\n",
       "        vertical-align: middle;\n",
       "    }\n",
       "\n",
       "    .dataframe tbody tr th {\n",
       "        vertical-align: top;\n",
       "    }\n",
       "\n",
       "    .dataframe thead th {\n",
       "        text-align: right;\n",
       "    }\n",
       "</style>\n",
       "<table border=\"1\" class=\"dataframe\">\n",
       "  <thead>\n",
       "    <tr style=\"text-align: right;\">\n",
       "      <th></th>\n",
       "      <th>date_dt</th>\n",
       "      <th>timestamp</th>\n",
       "      <th>species</th>\n",
       "      <th>age</th>\n",
       "      <th>direction1</th>\n",
       "    </tr>\n",
       "  </thead>\n",
       "  <tbody>\n",
       "    <tr>\n",
       "      <th>35275</th>\n",
       "      <td>2023-01-08</td>\n",
       "      <td>10:48:03</td>\n",
       "      <td>Bondrée apivore</td>\n",
       "      <td>NaN</td>\n",
       "      <td>1</td>\n",
       "    </tr>\n",
       "    <tr>\n",
       "      <th>35276</th>\n",
       "      <td>2023-01-08</td>\n",
       "      <td>12:31:00</td>\n",
       "      <td>Bondrée apivore</td>\n",
       "      <td>NaN</td>\n",
       "      <td>0</td>\n",
       "    </tr>\n",
       "    <tr>\n",
       "      <th>35414</th>\n",
       "      <td>2023-01-09</td>\n",
       "      <td>NaN</td>\n",
       "      <td>Bondrée apivore</td>\n",
       "      <td>NaN</td>\n",
       "      <td>2</td>\n",
       "    </tr>\n",
       "    <tr>\n",
       "      <th>35415</th>\n",
       "      <td>2023-01-09</td>\n",
       "      <td>NaN</td>\n",
       "      <td>Bondrée apivore</td>\n",
       "      <td>1</td>\n",
       "      <td>1</td>\n",
       "    </tr>\n",
       "    <tr>\n",
       "      <th>35416</th>\n",
       "      <td>2023-01-09</td>\n",
       "      <td>NaN</td>\n",
       "      <td>Bondrée apivore</td>\n",
       "      <td>NaN</td>\n",
       "      <td>1</td>\n",
       "    </tr>\n",
       "    <tr>\n",
       "      <th>...</th>\n",
       "      <td>...</td>\n",
       "      <td>...</td>\n",
       "      <td>...</td>\n",
       "      <td>...</td>\n",
       "      <td>...</td>\n",
       "    </tr>\n",
       "    <tr>\n",
       "      <th>47261</th>\n",
       "      <td>2023-12-08</td>\n",
       "      <td>13:00:59</td>\n",
       "      <td>Bondrée apivore</td>\n",
       "      <td>A</td>\n",
       "      <td>1</td>\n",
       "    </tr>\n",
       "    <tr>\n",
       "      <th>47268</th>\n",
       "      <td>2023-12-08</td>\n",
       "      <td>15:17:11</td>\n",
       "      <td>Bondrée apivore</td>\n",
       "      <td>NaN</td>\n",
       "      <td>3</td>\n",
       "    </tr>\n",
       "    <tr>\n",
       "      <th>47274</th>\n",
       "      <td>2023-12-08</td>\n",
       "      <td>11:45:00</td>\n",
       "      <td>Bondrée apivore</td>\n",
       "      <td>A</td>\n",
       "      <td>1</td>\n",
       "    </tr>\n",
       "    <tr>\n",
       "      <th>47275</th>\n",
       "      <td>2023-12-08</td>\n",
       "      <td>12:51:54</td>\n",
       "      <td>Bondrée apivore</td>\n",
       "      <td>A</td>\n",
       "      <td>1</td>\n",
       "    </tr>\n",
       "    <tr>\n",
       "      <th>47317</th>\n",
       "      <td>2023-12-09</td>\n",
       "      <td>10:21:16</td>\n",
       "      <td>Bondrée apivore</td>\n",
       "      <td>1</td>\n",
       "      <td>1</td>\n",
       "    </tr>\n",
       "  </tbody>\n",
       "</table>\n",
       "<p>1468 rows × 5 columns</p>\n",
       "</div>"
      ],
      "text/plain": [
       "          date_dt timestamp          species  age  direction1\n",
       "35275  2023-01-08  10:48:03  Bondrée apivore  NaN           1\n",
       "35276  2023-01-08  12:31:00  Bondrée apivore  NaN           0\n",
       "35414  2023-01-09       NaN  Bondrée apivore  NaN           2\n",
       "35415  2023-01-09       NaN  Bondrée apivore    1           1\n",
       "35416  2023-01-09       NaN  Bondrée apivore  NaN           1\n",
       "...           ...       ...              ...  ...         ...\n",
       "47261  2023-12-08  13:00:59  Bondrée apivore    A           1\n",
       "47268  2023-12-08  15:17:11  Bondrée apivore  NaN           3\n",
       "47274  2023-12-08  11:45:00  Bondrée apivore    A           1\n",
       "47275  2023-12-08  12:51:54  Bondrée apivore    A           1\n",
       "47317  2023-12-09  10:21:16  Bondrée apivore    1           1\n",
       "\n",
       "[1468 rows x 5 columns]"
      ]
     },
     "execution_count": 50,
     "metadata": {},
     "output_type": "execute_result"
    }
   ],
   "source": [
    "bondree_age_2023 = data_hour_age_2023[data_hour_age_2023['species'].isin(['Bondrée apivore'])]\n",
    "bondree_age_2023"
   ]
  },
  {
   "cell_type": "code",
   "execution_count": 51,
   "metadata": {},
   "outputs": [
    {
     "name": "stderr",
     "output_type": "stream",
     "text": [
      "/var/folders/p7/90k2qrqs4fvbt30f5t6x0glc0000gn/T/ipykernel_59306/1115923061.py:1: SettingWithCopyWarning: \n",
      "A value is trying to be set on a copy of a slice from a DataFrame\n",
      "\n",
      "See the caveats in the documentation: https://pandas.pydata.org/pandas-docs/stable/user_guide/indexing.html#returning-a-view-versus-a-copy\n",
      "  bondree_age_2023.fillna('indetermine', inplace = True) # fill NA with 'indetermine'\n",
      "/var/folders/p7/90k2qrqs4fvbt30f5t6x0glc0000gn/T/ipykernel_59306/1115923061.py:2: SettingWithCopyWarning: \n",
      "A value is trying to be set on a copy of a slice from a DataFrame\n",
      "\n",
      "See the caveats in the documentation: https://pandas.pydata.org/pandas-docs/stable/user_guide/indexing.html#returning-a-view-versus-a-copy\n",
      "  bondree_age_2023.replace('I', 'sup 1 an', inplace=True)\n",
      "/var/folders/p7/90k2qrqs4fvbt30f5t6x0glc0000gn/T/ipykernel_59306/1115923061.py:3: SettingWithCopyWarning: \n",
      "A value is trying to be set on a copy of a slice from a DataFrame\n",
      "\n",
      "See the caveats in the documentation: https://pandas.pydata.org/pandas-docs/stable/user_guide/indexing.html#returning-a-view-versus-a-copy\n",
      "  bondree_age_2023.replace('A', 'adult', inplace=True)\n",
      "/var/folders/p7/90k2qrqs4fvbt30f5t6x0glc0000gn/T/ipykernel_59306/1115923061.py:4: SettingWithCopyWarning: \n",
      "A value is trying to be set on a copy of a slice from a DataFrame\n",
      "\n",
      "See the caveats in the documentation: https://pandas.pydata.org/pandas-docs/stable/user_guide/indexing.html#returning-a-view-versus-a-copy\n",
      "  bondree_age_2023.replace('1', 'premiere année', inplace=True)\n",
      "/var/folders/p7/90k2qrqs4fvbt30f5t6x0glc0000gn/T/ipykernel_59306/1115923061.py:5: SettingWithCopyWarning: \n",
      "A value is trying to be set on a copy of a slice from a DataFrame\n",
      "\n",
      "See the caveats in the documentation: https://pandas.pydata.org/pandas-docs/stable/user_guide/indexing.html#returning-a-view-versus-a-copy\n",
      "  bondree_age_2023.replace('J', 'juvenile', inplace=True)\n"
     ]
    }
   ],
   "source": [
    "bondree_age_2023.fillna('indetermine', inplace = True) # fill NA with 'indetermine'\n",
    "bondree_age_2023.replace('I', 'sup 1 an', inplace=True)\n",
    "bondree_age_2023.replace('A', 'adult', inplace=True)\n",
    "bondree_age_2023.replace('1', 'premiere année', inplace=True)\n",
    "bondree_age_2023.replace('J', 'juvenile', inplace=True)\n",
    "bondree_age_2023 = bondree_age_2023.loc[bondree_age_2023['age'] != 'Non-Juv']"
   ]
  },
  {
   "cell_type": "code",
   "execution_count": 52,
   "metadata": {},
   "outputs": [
    {
     "data": {
      "text/html": [
       "<div>\n",
       "<style scoped>\n",
       "    .dataframe tbody tr th:only-of-type {\n",
       "        vertical-align: middle;\n",
       "    }\n",
       "\n",
       "    .dataframe tbody tr th {\n",
       "        vertical-align: top;\n",
       "    }\n",
       "\n",
       "    .dataframe thead th {\n",
       "        text-align: right;\n",
       "    }\n",
       "</style>\n",
       "<table border=\"1\" class=\"dataframe\">\n",
       "  <thead>\n",
       "    <tr style=\"text-align: right;\">\n",
       "      <th></th>\n",
       "      <th>age</th>\n",
       "      <th>direction1</th>\n",
       "    </tr>\n",
       "  </thead>\n",
       "  <tbody>\n",
       "    <tr>\n",
       "      <th>0</th>\n",
       "      <td>adult</td>\n",
       "      <td>840</td>\n",
       "    </tr>\n",
       "    <tr>\n",
       "      <th>1</th>\n",
       "      <td>indetermine</td>\n",
       "      <td>4835</td>\n",
       "    </tr>\n",
       "    <tr>\n",
       "      <th>2</th>\n",
       "      <td>premiere année</td>\n",
       "      <td>336</td>\n",
       "    </tr>\n",
       "    <tr>\n",
       "      <th>3</th>\n",
       "      <td>sup 1 an</td>\n",
       "      <td>4</td>\n",
       "    </tr>\n",
       "  </tbody>\n",
       "</table>\n",
       "</div>"
      ],
      "text/plain": [
       "              age  direction1\n",
       "0           adult         840\n",
       "1     indetermine        4835\n",
       "2  premiere année         336\n",
       "3        sup 1 an           4"
      ]
     },
     "execution_count": 52,
     "metadata": {},
     "output_type": "execute_result"
    }
   ],
   "source": [
    "n_obs_age_bondree = bondree_age_2023.groupby(['age'])['direction1'].sum().reset_index()\n",
    "n_obs_age_bondree"
   ]
  },
  {
   "cell_type": "code",
   "execution_count": 55,
   "metadata": {},
   "outputs": [
    {
     "data": {
      "text/plain": [
       "<Figure size 1000x500 with 0 Axes>"
      ]
     },
     "metadata": {},
     "output_type": "display_data"
    },
    {
     "data": {
      "image/png": "[encoded data removed]",
      "text/plain": [
       "<Figure size 640x480 with 1 Axes>"
      ]
     },
     "metadata": {},
     "output_type": "display_data"
    }
   ],
   "source": [
    "# Figure all years\n",
    "plt.figure(figsize=(10,5))\n",
    "\n",
    "fig, ax = plt.subplots();\n",
    "\n",
    "ax.pie(n_obs_age_bondree.direction1,\n",
    "       labels=n_obs_age_bondree.age,\n",
    "       labeldistance=1.15,\n",
    "       autopct='%1.1f%%',  # Add percentage labels\n",
    "       wedgeprops={'linewidth': 1.5, 'edgecolor': 'white'});\n",
    "\n",
    "plt.title(\"Proportion de chaque classe d'âge observée pour la bondrée apivore en migration en 2023\", fontsize=10);\n",
    "\n",
    "plt.savefig('../figures/age_sex_plumage/age/prop_age_bondree_apivore_migration_2023.png')"
   ]
  },
  {
   "cell_type": "markdown",
   "metadata": {},
   "source": [
    "### Sex"
   ]
  },
  {
   "cell_type": "code",
   "execution_count": 57,
   "metadata": {},
   "outputs": [
    {
     "data": {
      "text/html": [
       "<div>\n",
       "<style scoped>\n",
       "    .dataframe tbody tr th:only-of-type {\n",
       "        vertical-align: middle;\n",
       "    }\n",
       "\n",
       "    .dataframe tbody tr th {\n",
       "        vertical-align: top;\n",
       "    }\n",
       "\n",
       "    .dataframe thead th {\n",
       "        text-align: right;\n",
       "    }\n",
       "</style>\n",
       "<table border=\"1\" class=\"dataframe\">\n",
       "  <thead>\n",
       "    <tr style=\"text-align: right;\">\n",
       "      <th></th>\n",
       "      <th>date_dt</th>\n",
       "      <th>timestamp</th>\n",
       "      <th>species</th>\n",
       "      <th>sex</th>\n",
       "      <th>direction1</th>\n",
       "    </tr>\n",
       "  </thead>\n",
       "  <tbody>\n",
       "    <tr>\n",
       "      <th>35823</th>\n",
       "      <td>2023-02-09</td>\n",
       "      <td>16:18:36</td>\n",
       "      <td>Bondrée apivore</td>\n",
       "      <td>M</td>\n",
       "      <td>3</td>\n",
       "    </tr>\n",
       "    <tr>\n",
       "      <th>35827</th>\n",
       "      <td>2023-02-09</td>\n",
       "      <td>16:18:32</td>\n",
       "      <td>Bondrée apivore</td>\n",
       "      <td>F</td>\n",
       "      <td>3</td>\n",
       "    </tr>\n",
       "    <tr>\n",
       "      <th>36576</th>\n",
       "      <td>2023-05-08</td>\n",
       "      <td>16:41:01</td>\n",
       "      <td>Bondrée apivore</td>\n",
       "      <td>F</td>\n",
       "      <td>1</td>\n",
       "    </tr>\n",
       "    <tr>\n",
       "      <th>36578</th>\n",
       "      <td>2023-05-08</td>\n",
       "      <td>16:35:11</td>\n",
       "      <td>Bondrée apivore</td>\n",
       "      <td>F</td>\n",
       "      <td>1</td>\n",
       "    </tr>\n",
       "    <tr>\n",
       "      <th>36584</th>\n",
       "      <td>2023-05-08</td>\n",
       "      <td>13:47:02</td>\n",
       "      <td>Bondrée apivore</td>\n",
       "      <td>M</td>\n",
       "      <td>1</td>\n",
       "    </tr>\n",
       "    <tr>\n",
       "      <th>...</th>\n",
       "      <td>...</td>\n",
       "      <td>...</td>\n",
       "      <td>...</td>\n",
       "      <td>...</td>\n",
       "      <td>...</td>\n",
       "    </tr>\n",
       "    <tr>\n",
       "      <th>46993</th>\n",
       "      <td>2023-11-09</td>\n",
       "      <td>11:41:27</td>\n",
       "      <td>Bondrée apivore</td>\n",
       "      <td>FC</td>\n",
       "      <td>1</td>\n",
       "    </tr>\n",
       "    <tr>\n",
       "      <th>46999</th>\n",
       "      <td>2023-11-09</td>\n",
       "      <td>11:41:14</td>\n",
       "      <td>Bondrée apivore</td>\n",
       "      <td>M</td>\n",
       "      <td>2</td>\n",
       "    </tr>\n",
       "    <tr>\n",
       "      <th>47261</th>\n",
       "      <td>2023-12-08</td>\n",
       "      <td>13:00:59</td>\n",
       "      <td>Bondrée apivore</td>\n",
       "      <td>F</td>\n",
       "      <td>1</td>\n",
       "    </tr>\n",
       "    <tr>\n",
       "      <th>47274</th>\n",
       "      <td>2023-12-08</td>\n",
       "      <td>11:45:00</td>\n",
       "      <td>Bondrée apivore</td>\n",
       "      <td>M</td>\n",
       "      <td>1</td>\n",
       "    </tr>\n",
       "    <tr>\n",
       "      <th>47275</th>\n",
       "      <td>2023-12-08</td>\n",
       "      <td>12:51:54</td>\n",
       "      <td>Bondrée apivore</td>\n",
       "      <td>F</td>\n",
       "      <td>1</td>\n",
       "    </tr>\n",
       "  </tbody>\n",
       "</table>\n",
       "<p>362 rows × 5 columns</p>\n",
       "</div>"
      ],
      "text/plain": [
       "          date_dt timestamp          species sex  direction1\n",
       "35823  2023-02-09  16:18:36  Bondrée apivore   M           3\n",
       "35827  2023-02-09  16:18:32  Bondrée apivore   F           3\n",
       "36576  2023-05-08  16:41:01  Bondrée apivore   F           1\n",
       "36578  2023-05-08  16:35:11  Bondrée apivore   F           1\n",
       "36584  2023-05-08  13:47:02  Bondrée apivore   M           1\n",
       "...           ...       ...              ...  ..         ...\n",
       "46993  2023-11-09  11:41:27  Bondrée apivore  FC           1\n",
       "46999  2023-11-09  11:41:14  Bondrée apivore   M           2\n",
       "47261  2023-12-08  13:00:59  Bondrée apivore   F           1\n",
       "47274  2023-12-08  11:45:00  Bondrée apivore   M           1\n",
       "47275  2023-12-08  12:51:54  Bondrée apivore   F           1\n",
       "\n",
       "[362 rows x 5 columns]"
      ]
     },
     "execution_count": 57,
     "metadata": {},
     "output_type": "execute_result"
    }
   ],
   "source": [
    "bondree_sex_2023 = data_hour_sex_2023[data_hour_sex_2023['species'].isin(['Bondrée apivore'])]\n",
    "bondree_sex_2023"
   ]
  },
  {
   "cell_type": "code",
   "execution_count": 59,
   "metadata": {},
   "outputs": [
    {
     "name": "stderr",
     "output_type": "stream",
     "text": [
      "/var/folders/p7/90k2qrqs4fvbt30f5t6x0glc0000gn/T/ipykernel_59306/1609827421.py:1: SettingWithCopyWarning: \n",
      "A value is trying to be set on a copy of a slice from a DataFrame\n",
      "\n",
      "See the caveats in the documentation: https://pandas.pydata.org/pandas-docs/stable/user_guide/indexing.html#returning-a-view-versus-a-copy\n",
      "  bondree_sex_2023.fillna('indetermine', inplace = True) # fill NA with 'indetermine'\n",
      "/var/folders/p7/90k2qrqs4fvbt30f5t6x0glc0000gn/T/ipykernel_59306/1609827421.py:2: SettingWithCopyWarning: \n",
      "A value is trying to be set on a copy of a slice from a DataFrame\n",
      "\n",
      "See the caveats in the documentation: https://pandas.pydata.org/pandas-docs/stable/user_guide/indexing.html#returning-a-view-versus-a-copy\n",
      "  bondree_sex_2023.replace('F', 'femelle', inplace=True)\n",
      "/var/folders/p7/90k2qrqs4fvbt30f5t6x0glc0000gn/T/ipykernel_59306/1609827421.py:3: SettingWithCopyWarning: \n",
      "A value is trying to be set on a copy of a slice from a DataFrame\n",
      "\n",
      "See the caveats in the documentation: https://pandas.pydata.org/pandas-docs/stable/user_guide/indexing.html#returning-a-view-versus-a-copy\n",
      "  bondree_sex_2023.replace('M', 'mâle', inplace=True)\n"
     ]
    }
   ],
   "source": [
    "bondree_sex_2023.fillna('indetermine', inplace = True) # fill NA with 'indetermine'\n",
    "bondree_sex_2023.replace('F', 'femelle', inplace=True)\n",
    "bondree_sex_2023.replace('M', 'mâle', inplace=True)\n",
    "bondree_sex_2023 = bondree_sex_2023.loc[bondree_sex_2023['sex'] != 'FC']"
   ]
  },
  {
   "cell_type": "code",
   "execution_count": 60,
   "metadata": {},
   "outputs": [
    {
     "data": {
      "text/html": [
       "<div>\n",
       "<style scoped>\n",
       "    .dataframe tbody tr th:only-of-type {\n",
       "        vertical-align: middle;\n",
       "    }\n",
       "\n",
       "    .dataframe tbody tr th {\n",
       "        vertical-align: top;\n",
       "    }\n",
       "\n",
       "    .dataframe thead th {\n",
       "        text-align: right;\n",
       "    }\n",
       "</style>\n",
       "<table border=\"1\" class=\"dataframe\">\n",
       "  <thead>\n",
       "    <tr style=\"text-align: right;\">\n",
       "      <th></th>\n",
       "      <th>sex</th>\n",
       "      <th>direction1</th>\n",
       "    </tr>\n",
       "  </thead>\n",
       "  <tbody>\n",
       "    <tr>\n",
       "      <th>0</th>\n",
       "      <td>femelle</td>\n",
       "      <td>463</td>\n",
       "    </tr>\n",
       "    <tr>\n",
       "      <th>1</th>\n",
       "      <td>mâle</td>\n",
       "      <td>255</td>\n",
       "    </tr>\n",
       "  </tbody>\n",
       "</table>\n",
       "</div>"
      ],
      "text/plain": [
       "       sex  direction1\n",
       "0  femelle         463\n",
       "1     mâle         255"
      ]
     },
     "execution_count": 60,
     "metadata": {},
     "output_type": "execute_result"
    }
   ],
   "source": [
    "n_obs_sex_bondree = bondree_sex_2023.groupby(['sex'])['direction1'].sum().reset_index()\n",
    "n_obs_sex_bondree"
   ]
  },
  {
   "cell_type": "code",
   "execution_count": 62,
   "metadata": {},
   "outputs": [
    {
     "data": {
      "text/plain": [
       "<Figure size 1000x500 with 0 Axes>"
      ]
     },
     "metadata": {},
     "output_type": "display_data"
    },
    {
     "data": {
      "image/png": "[encoded data removed]",
      "text/plain": [
       "<Figure size 640x480 with 1 Axes>"
      ]
     },
     "metadata": {},
     "output_type": "display_data"
    }
   ],
   "source": [
    "# Figure all years\n",
    "plt.figure(figsize=(10,5))\n",
    "\n",
    "fig, ax = plt.subplots();\n",
    "\n",
    "ax.pie(n_obs_sex_bondree.direction1,\n",
    "       labels=n_obs_sex_bondree.sex,\n",
    "       labeldistance=1.15,\n",
    "       autopct='%1.1f%%',  # Add percentage labels\n",
    "       wedgeprops={'linewidth': 1.5, 'edgecolor': 'white'});\n",
    "\n",
    "plt.title(\"Proportion de mâles et femelles observés pour la bondrée apivore en migration en 2023\", fontsize=10);\n",
    "\n",
    "plt.savefig('../figures/age_sex_plumage/sex/prop_sex_bondree_apivore_migration_2023.png')"
   ]
  },
  {
   "cell_type": "markdown",
   "metadata": {},
   "source": [
    "### Aigle botté"
   ]
  },
  {
   "cell_type": "code",
   "execution_count": 64,
   "metadata": {},
   "outputs": [],
   "source": [
    "aigle_bote_plumage_2023 = data_hour_plumage_2023[data_hour_plumage_2023['species'].isin(['Aigle botté'])]"
   ]
  },
  {
   "cell_type": "code",
   "execution_count": 65,
   "metadata": {},
   "outputs": [
    {
     "name": "stderr",
     "output_type": "stream",
     "text": [
      "/var/folders/p7/90k2qrqs4fvbt30f5t6x0glc0000gn/T/ipykernel_59306/2919380307.py:1: SettingWithCopyWarning: \n",
      "A value is trying to be set on a copy of a slice from a DataFrame\n",
      "\n",
      "See the caveats in the documentation: https://pandas.pydata.org/pandas-docs/stable/user_guide/indexing.html#returning-a-view-versus-a-copy\n",
      "  aigle_bote_plumage_2023.fillna('indetermine', inplace = True) # fill NA with 'indetermine'\n",
      "/var/folders/p7/90k2qrqs4fvbt30f5t6x0glc0000gn/T/ipykernel_59306/2919380307.py:2: SettingWithCopyWarning: \n",
      "A value is trying to be set on a copy of a slice from a DataFrame\n",
      "\n",
      "See the caveats in the documentation: https://pandas.pydata.org/pandas-docs/stable/user_guide/indexing.html#returning-a-view-versus-a-copy\n",
      "  aigle_bote_plumage_2023.replace('D', 'foncé', inplace=True)\n",
      "/var/folders/p7/90k2qrqs4fvbt30f5t6x0glc0000gn/T/ipykernel_59306/2919380307.py:3: SettingWithCopyWarning: \n",
      "A value is trying to be set on a copy of a slice from a DataFrame\n",
      "\n",
      "See the caveats in the documentation: https://pandas.pydata.org/pandas-docs/stable/user_guide/indexing.html#returning-a-view-versus-a-copy\n",
      "  aigle_bote_plumage_2023.replace('L', 'clair', inplace=True)\n"
     ]
    }
   ],
   "source": [
    "aigle_bote_plumage_2023.fillna('indetermine', inplace = True) # fill NA with 'indetermine'\n",
    "aigle_bote_plumage_2023.replace('D', 'foncé', inplace=True)\n",
    "aigle_bote_plumage_2023.replace('L', 'clair', inplace=True)\n",
    "aigle_bote_plumage_2023 = aigle_bote_plumage_2023.loc[aigle_bote_plumage_2023['plumage'] != 'I']"
   ]
  },
  {
   "cell_type": "code",
   "execution_count": 67,
   "metadata": {},
   "outputs": [
    {
     "data": {
      "text/html": [
       "<div>\n",
       "<style scoped>\n",
       "    .dataframe tbody tr th:only-of-type {\n",
       "        vertical-align: middle;\n",
       "    }\n",
       "\n",
       "    .dataframe tbody tr th {\n",
       "        vertical-align: top;\n",
       "    }\n",
       "\n",
       "    .dataframe thead th {\n",
       "        text-align: right;\n",
       "    }\n",
       "</style>\n",
       "<table border=\"1\" class=\"dataframe\">\n",
       "  <thead>\n",
       "    <tr style=\"text-align: right;\">\n",
       "      <th></th>\n",
       "      <th>plumage</th>\n",
       "      <th>direction1</th>\n",
       "    </tr>\n",
       "  </thead>\n",
       "  <tbody>\n",
       "    <tr>\n",
       "      <th>0</th>\n",
       "      <td>clair</td>\n",
       "      <td>72</td>\n",
       "    </tr>\n",
       "    <tr>\n",
       "      <th>1</th>\n",
       "      <td>foncé</td>\n",
       "      <td>60</td>\n",
       "    </tr>\n",
       "  </tbody>\n",
       "</table>\n",
       "</div>"
      ],
      "text/plain": [
       "  plumage  direction1\n",
       "0   clair          72\n",
       "1   foncé          60"
      ]
     },
     "execution_count": 67,
     "metadata": {},
     "output_type": "execute_result"
    }
   ],
   "source": [
    "n_obs_aigle_botte_plumage = aigle_bote_plumage_2023.groupby(['plumage'])['direction1'].sum().reset_index()\n",
    "n_obs_aigle_botte_plumage"
   ]
  },
  {
   "cell_type": "code",
   "execution_count": 70,
   "metadata": {},
   "outputs": [
    {
     "data": {
      "text/plain": [
       "<Figure size 1000x500 with 0 Axes>"
      ]
     },
     "metadata": {},
     "output_type": "display_data"
    },
    {
     "data": {
      "image/png": "[encoded data removed]",
      "text/plain": [
       "<Figure size 640x480 with 1 Axes>"
      ]
     },
     "metadata": {},
     "output_type": "display_data"
    }
   ],
   "source": [
    "# Figure all years\n",
    "plt.figure(figsize=(10,5))\n",
    "\n",
    "fig, ax = plt.subplots();\n",
    "\n",
    "ax.pie(n_obs_aigle_botte_plumage.direction1,\n",
    "       labels=n_obs_aigle_botte_plumage.plumage,\n",
    "       labeldistance=1.15,\n",
    "       autopct='%1.1f%%',  # Add percentage labels\n",
    "       wedgeprops={'linewidth': 1.5, 'edgecolor': 'white'});\n",
    "\n",
    "plt.title(\"Proportion de type de plumage pour l'aigle botté en migration en 2023\", fontsize=10);\n",
    "\n",
    "plt.savefig('../figures/age_sex_plumage/plumage/prop_plumage_aigle_botté_2023.png')"
   ]
  },
  {
   "cell_type": "code",
   "execution_count": null,
   "metadata": {},
   "outputs": [],
   "source": []
  }
 ],
 "metadata": {
  "kernelspec": {
   "display_name": "Python 3",
   "language": "python",
   "name": "python3"
  },
  "language_info": {
   "codemirror_mode": {
    "name": "ipython",
    "version": 3
   },
   "file_extension": ".py",
   "mimetype": "text/x-python",
   "name": "python",
   "nbconvert_exporter": "python",
   "pygments_lexer": "ipython3",
   "version": "3.10.6"
  }
 },
 "nbformat": 4,
 "nbformat_minor": 2
}
