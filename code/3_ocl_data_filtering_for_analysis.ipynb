{
 "cells": [
  {
   "cell_type": "markdown",
   "metadata": {},
   "source": [
    "### Ce script permet de:\n",
    "- filtrer les données pour nos analyses: \n",
    "  - Selectionne seulement les données après 2016"
   ]
  },
  {
   "cell_type": "markdown",
   "metadata": {},
   "source": [
    "## Packages "
   ]
  },
  {
   "cell_type": "code",
   "execution_count": 17,
   "metadata": {},
   "outputs": [],
   "source": [
    "import pandas as pd\n",
    "import seaborn as sns"
   ]
  },
  {
   "cell_type": "markdown",
   "metadata": {},
   "source": [
    "## Open Data "
   ]
  },
  {
   "cell_type": "code",
   "execution_count": 18,
   "metadata": {},
   "outputs": [],
   "source": [
    "# Open cleaned data for analysis\n",
    "data_day = pd.read_csv('../raw_data/Trektellen/tableaux_finaux/data_day_for_analysis.csv')\n",
    "data_hour = pd.read_csv('../raw_data/Trektellen/tableaux_finaux/data_hour_for_analysis.csv')"
   ]
  },
  {
   "cell_type": "markdown",
   "metadata": {},
   "source": [
    "## Filtering from 2016"
   ]
  },
  {
   "cell_type": "code",
   "execution_count": 19,
   "metadata": {},
   "outputs": [],
   "source": [
    "#select from 2016 to 2023\n",
    "data_day = data_day[(data_day['year'] >= 2016)]"
   ]
  },
  {
   "cell_type": "markdown",
   "metadata": {},
   "source": [
    "## Filtering observation period (day min - day max)"
   ]
  },
  {
   "cell_type": "code",
   "execution_count": 20,
   "metadata": {},
   "outputs": [
    {
     "data": {
      "text/plain": [
       "'2023-10-28'"
      ]
     },
     "execution_count": 20,
     "metadata": {},
     "output_type": "execute_result"
    }
   ],
   "source": [
    "data_day.date_dt.max()"
   ]
  },
  {
   "cell_type": "code",
   "execution_count": 21,
   "metadata": {},
   "outputs": [
    {
     "data": {
      "text/plain": [
       "year\n",
       "2016    2016-07-15\n",
       "2017    2017-07-15\n",
       "2018    2018-07-14\n",
       "2019    2019-07-15\n",
       "2020    2020-07-18\n",
       "2021    2021-07-15\n",
       "2022    2022-07-15\n",
       "2023    2023-07-05\n",
       "Name: date_dt, dtype: object"
      ]
     },
     "execution_count": 21,
     "metadata": {},
     "output_type": "execute_result"
    }
   ],
   "source": [
    "data_day.groupby(['year']).date_dt.min() # 18 juillet limite"
   ]
  },
  {
   "cell_type": "code",
   "execution_count": 22,
   "metadata": {},
   "outputs": [
    {
     "data": {
      "text/plain": [
       "year\n",
       "2016    2016-10-15\n",
       "2017    2017-10-14\n",
       "2018    2018-10-13\n",
       "2019    2019-10-25\n",
       "2020    2020-10-17\n",
       "2021    2021-10-28\n",
       "2022    2022-10-18\n",
       "2023    2023-10-28\n",
       "Name: date_dt, dtype: object"
      ]
     },
     "execution_count": 22,
     "metadata": {},
     "output_type": "execute_result"
    }
   ],
   "source": [
    "data_day.groupby(['year']).date_dt.max() # 13 octobre limite"
   ]
  },
  {
   "cell_type": "code",
   "execution_count": 23,
   "metadata": {},
   "outputs": [
    {
     "data": {
      "text/plain": [
       "year\n",
       "2016    2016-07-18\n",
       "2017    2017-07-18\n",
       "2018    2018-07-18\n",
       "2019    2019-07-18\n",
       "2020    2020-07-18\n",
       "2021    2021-07-18\n",
       "2022    2022-07-18\n",
       "2023    2023-07-18\n",
       "Name: date_dt, dtype: object"
      ]
     },
     "execution_count": 23,
     "metadata": {},
     "output_type": "execute_result"
    }
   ],
   "source": [
    "condition_start = (data_day['month'] == 7) & (data_day['day'] < 18)\n",
    "data_day_filtered_start = data_day[~condition_start]\n",
    "data_day_filtered_start.groupby(['year']).date_dt.min()"
   ]
  },
  {
   "cell_type": "code",
   "execution_count": 24,
   "metadata": {},
   "outputs": [
    {
     "name": "stderr",
     "output_type": "stream",
     "text": [
      "/var/folders/p7/90k2qrqs4fvbt30f5t6x0glc0000gn/T/ipykernel_17564/3309597897.py:2: UserWarning: Boolean Series key will be reindexed to match DataFrame index.\n",
      "  data_day_filtered = data_day_filtered_start[~condition_end]\n"
     ]
    },
    {
     "data": {
      "text/plain": [
       "year\n",
       "2016    2016-10-04\n",
       "2017    2017-10-08\n",
       "2018    2018-10-13\n",
       "2019    2019-10-10\n",
       "2020    2020-10-08\n",
       "2021    2021-10-13\n",
       "2022    2022-10-13\n",
       "2023    2023-10-13\n",
       "Name: date_dt, dtype: object"
      ]
     },
     "execution_count": 24,
     "metadata": {},
     "output_type": "execute_result"
    }
   ],
   "source": [
    "condition_end = (data_day['month'] == 10) & (data_day['day'] > 13)\n",
    "data_day_filtered = data_day_filtered_start[~condition_end]\n",
    "data_day_filtered.groupby(['year']).date_dt.max()"
   ]
  },
  {
   "cell_type": "markdown",
   "metadata": {},
   "source": [
    "## Observers cleaning"
   ]
  },
  {
   "cell_type": "code",
   "execution_count": 25,
   "metadata": {},
   "outputs": [
    {
     "data": {
      "text/html": [
       "<div>\n",
       "<style scoped>\n",
       "    .dataframe tbody tr th:only-of-type {\n",
       "        vertical-align: middle;\n",
       "    }\n",
       "\n",
       "    .dataframe tbody tr th {\n",
       "        vertical-align: top;\n",
       "    }\n",
       "\n",
       "    .dataframe thead th {\n",
       "        text-align: right;\n",
       "    }\n",
       "</style>\n",
       "<table border=\"1\" class=\"dataframe\">\n",
       "  <thead>\n",
       "    <tr style=\"text-align: right;\">\n",
       "      <th></th>\n",
       "      <th>date_dt</th>\n",
       "      <th>year</th>\n",
       "      <th>month</th>\n",
       "      <th>day</th>\n",
       "      <th>start_time</th>\n",
       "      <th>stop_time</th>\n",
       "      <th>day_duration</th>\n",
       "      <th>observers</th>\n",
       "      <th>observersactive</th>\n",
       "      <th>observerspresent</th>\n",
       "      <th>...</th>\n",
       "      <th>weather</th>\n",
       "      <th>windspeed_bfr</th>\n",
       "      <th>wind_ms</th>\n",
       "      <th>winddirection</th>\n",
       "      <th>cloudcover</th>\n",
       "      <th>cloudheight</th>\n",
       "      <th>precipitation</th>\n",
       "      <th>perc_duration</th>\n",
       "      <th>visibility</th>\n",
       "      <th>temperature</th>\n",
       "    </tr>\n",
       "  </thead>\n",
       "  <tbody>\n",
       "    <tr>\n",
       "      <th>649</th>\n",
       "      <td>2016-07-18</td>\n",
       "      <td>2016</td>\n",
       "      <td>7</td>\n",
       "      <td>18</td>\n",
       "      <td>06:49:00</td>\n",
       "      <td>16:39:00</td>\n",
       "      <td>9.833333</td>\n",
       "      <td>MR, LDG, MC, Mijo Gariou</td>\n",
       "      <td>4.0</td>\n",
       "      <td>NaN</td>\n",
       "      <td>...</td>\n",
       "      <td>NaN</td>\n",
       "      <td>3.0</td>\n",
       "      <td>4.0</td>\n",
       "      <td>zw</td>\n",
       "      <td>1.0</td>\n",
       "      <td>NaN</td>\n",
       "      <td>NaN</td>\n",
       "      <td>NaN</td>\n",
       "      <td>10000.0</td>\n",
       "      <td>21.0</td>\n",
       "    </tr>\n",
       "    <tr>\n",
       "      <th>650</th>\n",
       "      <td>2016-07-18</td>\n",
       "      <td>2016</td>\n",
       "      <td>7</td>\n",
       "      <td>18</td>\n",
       "      <td>06:49:00</td>\n",
       "      <td>16:39:00</td>\n",
       "      <td>9.833333</td>\n",
       "      <td>MR, LDG, MC, Mijo Gariou</td>\n",
       "      <td>4.0</td>\n",
       "      <td>NaN</td>\n",
       "      <td>...</td>\n",
       "      <td>NaN</td>\n",
       "      <td>3.0</td>\n",
       "      <td>4.0</td>\n",
       "      <td>zw</td>\n",
       "      <td>1.0</td>\n",
       "      <td>NaN</td>\n",
       "      <td>NaN</td>\n",
       "      <td>NaN</td>\n",
       "      <td>10000.0</td>\n",
       "      <td>21.0</td>\n",
       "    </tr>\n",
       "  </tbody>\n",
       "</table>\n",
       "<p>2 rows × 24 columns</p>\n",
       "</div>"
      ],
      "text/plain": [
       "        date_dt  year  month  day start_time stop_time  day_duration  \\\n",
       "649  2016-07-18  2016      7   18   06:49:00  16:39:00      9.833333   \n",
       "650  2016-07-18  2016      7   18   06:49:00  16:39:00      9.833333   \n",
       "\n",
       "                    observers  observersactive  observerspresent  ... weather  \\\n",
       "649  MR, LDG, MC, Mijo Gariou              4.0               NaN  ...     NaN   \n",
       "650  MR, LDG, MC, Mijo Gariou              4.0               NaN  ...     NaN   \n",
       "\n",
       "     windspeed_bfr  wind_ms  winddirection cloudcover  cloudheight  \\\n",
       "649            3.0      4.0             zw        1.0          NaN   \n",
       "650            3.0      4.0             zw        1.0          NaN   \n",
       "\n",
       "     precipitation perc_duration  visibility  temperature  \n",
       "649            NaN           NaN     10000.0         21.0  \n",
       "650            NaN           NaN     10000.0         21.0  \n",
       "\n",
       "[2 rows x 24 columns]"
      ]
     },
     "execution_count": 25,
     "metadata": {},
     "output_type": "execute_result"
    }
   ],
   "source": [
    "data_day_filtered.head(2)"
   ]
  },
  {
   "cell_type": "code",
   "execution_count": 26,
   "metadata": {},
   "outputs": [
    {
     "name": "stdout",
     "output_type": "stream",
     "text": [
      "29.72560975609756\n"
     ]
    }
   ],
   "source": [
    "# Filter the DataFrame to keep only rows with NaN values in the 'observers' column\n",
    "nan_observers = data_day_filtered[data_day_filtered['observerspresent'].isna()]\n",
    "\n",
    "# Count the number of dates with NaN values in the 'observers' column\n",
    "nan_observers_count = nan_observers['date_dt'].nunique()\n",
    "print(nan_observers_count/data_day.date_dt.nunique()*100)\n",
    "\n",
    "#print(data_day.date_dt.nunique())"
   ]
  },
  {
   "cell_type": "code",
   "execution_count": 27,
   "metadata": {},
   "outputs": [
    {
     "data": {
      "text/plain": [
       "195"
      ]
     },
     "execution_count": 27,
     "metadata": {},
     "output_type": "execute_result"
    }
   ],
   "source": [
    "nan_observers['date_dt'].nunique()"
   ]
  },
  {
   "cell_type": "code",
   "execution_count": 28,
   "metadata": {},
   "outputs": [
    {
     "data": {
      "text/plain": [
       "3"
      ]
     },
     "execution_count": 28,
     "metadata": {},
     "output_type": "execute_result"
    }
   ],
   "source": [
    "# How many dates have no observers names?\n",
    "nan_observers_dates = data_day_filtered[data_day_filtered['observers'].isna()]['date_dt'].unique()\n",
    "len(nan_observers_dates)"
   ]
  },
  {
   "cell_type": "code",
   "execution_count": 29,
   "metadata": {},
   "outputs": [],
   "source": [
    "# Delete rows that have dates in 'nan_observers_dates'\n",
    "cleaned_data_day = data_day_filtered[~data_day_filtered['date_dt'].isin(nan_observers_dates)]"
   ]
  },
  {
   "cell_type": "code",
   "execution_count": 30,
   "metadata": {},
   "outputs": [
    {
     "data": {
      "text/html": [
       "<div>\n",
       "<style scoped>\n",
       "    .dataframe tbody tr th:only-of-type {\n",
       "        vertical-align: middle;\n",
       "    }\n",
       "\n",
       "    .dataframe tbody tr th {\n",
       "        vertical-align: top;\n",
       "    }\n",
       "\n",
       "    .dataframe thead th {\n",
       "        text-align: right;\n",
       "    }\n",
       "</style>\n",
       "<table border=\"1\" class=\"dataframe\">\n",
       "  <thead>\n",
       "    <tr style=\"text-align: right;\">\n",
       "      <th></th>\n",
       "      <th>date_dt</th>\n",
       "      <th>observers</th>\n",
       "    </tr>\n",
       "  </thead>\n",
       "  <tbody>\n",
       "    <tr>\n",
       "      <th>649</th>\n",
       "      <td>2016-07-18</td>\n",
       "      <td>MR, LDG, MC, Mijo Gariou</td>\n",
       "    </tr>\n",
       "    <tr>\n",
       "      <th>657</th>\n",
       "      <td>2016-07-19</td>\n",
       "      <td>MR, QD, LDG, GS</td>\n",
       "    </tr>\n",
       "    <tr>\n",
       "      <th>664</th>\n",
       "      <td>2016-07-20</td>\n",
       "      <td>MR, MC</td>\n",
       "    </tr>\n",
       "    <tr>\n",
       "      <th>670</th>\n",
       "      <td>2016-07-23</td>\n",
       "      <td>MR, LDG, QD, GS</td>\n",
       "    </tr>\n",
       "    <tr>\n",
       "      <th>678</th>\n",
       "      <td>2016-07-24</td>\n",
       "      <td>MR, QD, LDG, GV</td>\n",
       "    </tr>\n",
       "    <tr>\n",
       "      <th>...</th>\n",
       "      <td>...</td>\n",
       "      <td>...</td>\n",
       "    </tr>\n",
       "    <tr>\n",
       "      <th>12589</th>\n",
       "      <td>2023-10-08</td>\n",
       "      <td>Guénolé CHAVRIER, Tiphaine CAUSSE, Carmen ELIE...</td>\n",
       "    </tr>\n",
       "    <tr>\n",
       "      <th>12621</th>\n",
       "      <td>2023-10-10</td>\n",
       "      <td>Guénolé CHAVRIER, Tiphaine CAUSSE, Carmen ELIE...</td>\n",
       "    </tr>\n",
       "    <tr>\n",
       "      <th>12648</th>\n",
       "      <td>2023-10-11</td>\n",
       "      <td>Guénolé CHAVRIER, Tiphaine CAUSSE, Carmen ELIE...</td>\n",
       "    </tr>\n",
       "    <tr>\n",
       "      <th>12670</th>\n",
       "      <td>2023-10-12</td>\n",
       "      <td>Jean-louis GRANGÉ</td>\n",
       "    </tr>\n",
       "    <tr>\n",
       "      <th>12687</th>\n",
       "      <td>2023-10-13</td>\n",
       "      <td>Stéphane DUCHATEAU</td>\n",
       "    </tr>\n",
       "  </tbody>\n",
       "</table>\n",
       "<p>596 rows × 2 columns</p>\n",
       "</div>"
      ],
      "text/plain": [
       "          date_dt                                          observers\n",
       "649    2016-07-18                           MR, LDG, MC, Mijo Gariou\n",
       "657    2016-07-19                                    MR, QD, LDG, GS\n",
       "664    2016-07-20                                             MR, MC\n",
       "670    2016-07-23                                    MR, LDG, QD, GS\n",
       "678    2016-07-24                                    MR, QD, LDG, GV\n",
       "...           ...                                                ...\n",
       "12589  2023-10-08  Guénolé CHAVRIER, Tiphaine CAUSSE, Carmen ELIE...\n",
       "12621  2023-10-10  Guénolé CHAVRIER, Tiphaine CAUSSE, Carmen ELIE...\n",
       "12648  2023-10-11  Guénolé CHAVRIER, Tiphaine CAUSSE, Carmen ELIE...\n",
       "12670  2023-10-12                                 Jean-louis GRANGÉ \n",
       "12687  2023-10-13                                Stéphane DUCHATEAU \n",
       "\n",
       "[596 rows x 2 columns]"
      ]
     },
     "execution_count": 30,
     "metadata": {},
     "output_type": "execute_result"
    }
   ],
   "source": [
    "date_observors = cleaned_data_day[['date_dt','observers']].drop_duplicates()\n",
    "date_observors"
   ]
  },
  {
   "cell_type": "code",
   "execution_count": 31,
   "metadata": {},
   "outputs": [],
   "source": [
    "# Function to count unique names in a single cell\n",
    "def count_unique_names(cell_value):\n",
    "    # Split the cell value into a list of names\n",
    "    names = [name.strip() for name in cell_value.split(',')]\n",
    "    # Count unique names\n",
    "    unique_names = set(names)\n",
    "    return len(unique_names)"
   ]
  },
  {
   "cell_type": "code",
   "execution_count": 33,
   "metadata": {},
   "outputs": [
    {
     "name": "stdout",
     "output_type": "stream",
     "text": [
      "<class 'pandas.core.frame.DataFrame'>\n",
      "Int64Index: 11466 entries, 649 to 12705\n",
      "Data columns (total 25 columns):\n",
      " #   Column            Non-Null Count  Dtype  \n",
      "---  ------            --------------  -----  \n",
      " 0   date_dt           11466 non-null  object \n",
      " 1   year              11466 non-null  int64  \n",
      " 2   month             11466 non-null  int64  \n",
      " 3   day               11466 non-null  int64  \n",
      " 4   start_time        11448 non-null  object \n",
      " 5   stop_time         11448 non-null  object \n",
      " 6   day_duration      11448 non-null  float64\n",
      " 7   observers         11466 non-null  object \n",
      " 8   observersactive   9087 non-null   float64\n",
      " 9   observerspresent  8863 non-null   float64\n",
      " 10  species           11448 non-null  object \n",
      " 11  direction1        11448 non-null  float64\n",
      " 12  direction2        11448 non-null  float64\n",
      " 13  maxlocal          11448 non-null  float64\n",
      " 14  weather           9218 non-null   object \n",
      " 15  windspeed_bfr     8199 non-null   float64\n",
      " 16  wind_ms           8199 non-null   float64\n",
      " 17  winddirection     7897 non-null   object \n",
      " 18  cloudcover        8257 non-null   float64\n",
      " 19  cloudheight       7387 non-null   float64\n",
      " 20  precipitation     2119 non-null   object \n",
      " 21  perc_duration     1747 non-null   float64\n",
      " 22  visibility        7249 non-null   float64\n",
      " 23  temperature       8394 non-null   float64\n",
      " 24  n_observers       11466 non-null  int64  \n",
      "dtypes: float64(13), int64(4), object(8)\n",
      "memory usage: 2.3+ MB\n"
     ]
    }
   ],
   "source": [
    "cleaned_data_day.info()"
   ]
  },
  {
   "cell_type": "code",
   "execution_count": 32,
   "metadata": {},
   "outputs": [
    {
     "name": "stderr",
     "output_type": "stream",
     "text": [
      "/var/folders/p7/90k2qrqs4fvbt30f5t6x0glc0000gn/T/ipykernel_17564/3689962351.py:2: SettingWithCopyWarning: \n",
      "A value is trying to be set on a copy of a slice from a DataFrame.\n",
      "Try using .loc[row_indexer,col_indexer] = value instead\n",
      "\n",
      "See the caveats in the documentation: https://pandas.pydata.org/pandas-docs/stable/user_guide/indexing.html#returning-a-view-versus-a-copy\n",
      "  cleaned_data_day['n_observers'] = cleaned_data_day['observers'].apply(count_unique_names)\n"
     ]
    }
   ],
   "source": [
    "# Apply the function to the 'names' column\n",
    "cleaned_data_day['n_observers'] = cleaned_data_day['observers'].apply(count_unique_names)\n"
   ]
  },
  {
   "cell_type": "code",
   "execution_count": 18,
   "metadata": {},
   "outputs": [],
   "source": [
    "# Export cleaned_data_day (with n_observers)\n",
    "cleaned_data_day.to_csv('../raw_data/Trektellen/tableaux_finaux/cleaned_data_day_for_analysis.csv', index = False)\n"
   ]
  },
  {
   "cell_type": "markdown",
   "metadata": {},
   "source": [
    "## Species selection for analysis (based on abundance, only migration data)"
   ]
  },
  {
   "cell_type": "markdown",
   "metadata": {},
   "source": [
    "### A) Absolute Abundance"
   ]
  },
  {
   "cell_type": "code",
   "execution_count": 24,
   "metadata": {},
   "outputs": [],
   "source": [
    "data_day = data_day_filtered.loc[data_day_filtered['direction1'] > 0]"
   ]
  },
  {
   "cell_type": "code",
   "execution_count": 25,
   "metadata": {},
   "outputs": [
    {
     "name": "stdout",
     "output_type": "stream",
     "text": [
      "                  species  year  direction1\n",
      "0              Milan noir  2016     44157.0\n",
      "1         Bondrée apivore  2016      4517.0\n",
      "2   Hirondelle de fenêtre  2016      1436.0\n",
      "3              Milan noir  2017     43164.0\n",
      "4           Martinet noir  2017      8449.0\n",
      "5         Bondrée apivore  2017      4920.0\n",
      "6              Milan noir  2018     46090.0\n",
      "7         Bondrée apivore  2018      6232.0\n",
      "8           Martinet noir  2018      1708.0\n",
      "9              Milan noir  2019     57042.0\n",
      "10        Bondrée apivore  2019      5546.0\n",
      "11            Milan royal  2019      1780.0\n",
      "12             Milan noir  2020     67109.0\n",
      "13        Bondrée apivore  2020      5229.0\n",
      "14            Milan royal  2020       773.0\n",
      "15          Martinet noir  2021     60508.0\n",
      "16             Milan noir  2021     57600.0\n",
      "17    Hirondelle rustique  2021     18912.0\n",
      "18          Martinet noir  2022     71797.0\n",
      "19             Milan noir  2022     51477.0\n",
      "20  Hirondelle de fenêtre  2022     31264.0\n",
      "21             Milan noir  2023     78583.0\n",
      "22          Martinet noir  2023     68434.0\n",
      "23  Hirondelle de fenêtre  2023     28976.0\n"
     ]
    }
   ],
   "source": [
    "# Calculate mean abundance per species per year\n",
    "abundance_per_species_and_year = data_day.groupby(['species', 'year'])['direction1'].sum().reset_index()\n",
    "\n",
    "# Sort by year and mean abundance\n",
    "abundance_per_species_and_year = abundance_per_species_and_year.sort_values(by=['year', 'direction1'], ascending=[True, False])\n",
    "\n",
    "# Get top 5 species per year\n",
    "top_3_species_per_year = abundance_per_species_and_year.groupby('year').head(3).reset_index(drop=True)\n",
    "top_5_species_per_year = abundance_per_species_and_year.groupby('year').head(5).reset_index(drop=True)\n",
    "\n",
    "# Display the result\n",
    "print(top_3_species_per_year)"
   ]
  },
  {
   "cell_type": "code",
   "execution_count": 26,
   "metadata": {},
   "outputs": [
    {
     "data": {
      "text/plain": [
       "array(['Milan noir', 'Bondrée apivore', 'Hirondelle de fenêtre',\n",
       "       'Martinet noir', 'Milan royal', 'Hirondelle rustique'],\n",
       "      dtype=object)"
      ]
     },
     "execution_count": 26,
     "metadata": {},
     "output_type": "execute_result"
    }
   ],
   "source": [
    "top_3_species_per_year.species.unique()"
   ]
  },
  {
   "cell_type": "code",
   "execution_count": 27,
   "metadata": {},
   "outputs": [
    {
     "data": {
      "text/html": [
       "<div>\n",
       "<style scoped>\n",
       "    .dataframe tbody tr th:only-of-type {\n",
       "        vertical-align: middle;\n",
       "    }\n",
       "\n",
       "    .dataframe tbody tr th {\n",
       "        vertical-align: top;\n",
       "    }\n",
       "\n",
       "    .dataframe thead th {\n",
       "        text-align: right;\n",
       "    }\n",
       "</style>\n",
       "<table border=\"1\" class=\"dataframe\">\n",
       "  <thead>\n",
       "    <tr style=\"text-align: right;\">\n",
       "      <th></th>\n",
       "      <th>species</th>\n",
       "      <th>year</th>\n",
       "      <th>direction1</th>\n",
       "    </tr>\n",
       "  </thead>\n",
       "  <tbody>\n",
       "    <tr>\n",
       "      <th>0</th>\n",
       "      <td>Milan noir</td>\n",
       "      <td>2016</td>\n",
       "      <td>44157.0</td>\n",
       "    </tr>\n",
       "    <tr>\n",
       "      <th>1</th>\n",
       "      <td>Bondrée apivore</td>\n",
       "      <td>2016</td>\n",
       "      <td>4517.0</td>\n",
       "    </tr>\n",
       "    <tr>\n",
       "      <th>2</th>\n",
       "      <td>Hirondelle de fenêtre</td>\n",
       "      <td>2016</td>\n",
       "      <td>1436.0</td>\n",
       "    </tr>\n",
       "    <tr>\n",
       "      <th>3</th>\n",
       "      <td>Hirondelle rustique</td>\n",
       "      <td>2016</td>\n",
       "      <td>662.0</td>\n",
       "    </tr>\n",
       "    <tr>\n",
       "      <th>4</th>\n",
       "      <td>Milan royal</td>\n",
       "      <td>2016</td>\n",
       "      <td>561.0</td>\n",
       "    </tr>\n",
       "    <tr>\n",
       "      <th>5</th>\n",
       "      <td>Milan noir</td>\n",
       "      <td>2017</td>\n",
       "      <td>43164.0</td>\n",
       "    </tr>\n",
       "    <tr>\n",
       "      <th>6</th>\n",
       "      <td>Martinet noir</td>\n",
       "      <td>2017</td>\n",
       "      <td>8449.0</td>\n",
       "    </tr>\n",
       "    <tr>\n",
       "      <th>7</th>\n",
       "      <td>Bondrée apivore</td>\n",
       "      <td>2017</td>\n",
       "      <td>4920.0</td>\n",
       "    </tr>\n",
       "    <tr>\n",
       "      <th>8</th>\n",
       "      <td>Hirondelle rustique</td>\n",
       "      <td>2017</td>\n",
       "      <td>3814.0</td>\n",
       "    </tr>\n",
       "    <tr>\n",
       "      <th>9</th>\n",
       "      <td>Milan royal</td>\n",
       "      <td>2017</td>\n",
       "      <td>2991.0</td>\n",
       "    </tr>\n",
       "    <tr>\n",
       "      <th>10</th>\n",
       "      <td>Milan noir</td>\n",
       "      <td>2018</td>\n",
       "      <td>46090.0</td>\n",
       "    </tr>\n",
       "    <tr>\n",
       "      <th>11</th>\n",
       "      <td>Bondrée apivore</td>\n",
       "      <td>2018</td>\n",
       "      <td>6232.0</td>\n",
       "    </tr>\n",
       "    <tr>\n",
       "      <th>12</th>\n",
       "      <td>Martinet noir</td>\n",
       "      <td>2018</td>\n",
       "      <td>1708.0</td>\n",
       "    </tr>\n",
       "    <tr>\n",
       "      <th>13</th>\n",
       "      <td>Milan royal</td>\n",
       "      <td>2018</td>\n",
       "      <td>969.0</td>\n",
       "    </tr>\n",
       "    <tr>\n",
       "      <th>14</th>\n",
       "      <td>Cigogne blanche</td>\n",
       "      <td>2018</td>\n",
       "      <td>285.0</td>\n",
       "    </tr>\n",
       "    <tr>\n",
       "      <th>15</th>\n",
       "      <td>Milan noir</td>\n",
       "      <td>2019</td>\n",
       "      <td>57042.0</td>\n",
       "    </tr>\n",
       "    <tr>\n",
       "      <th>16</th>\n",
       "      <td>Bondrée apivore</td>\n",
       "      <td>2019</td>\n",
       "      <td>5546.0</td>\n",
       "    </tr>\n",
       "    <tr>\n",
       "      <th>17</th>\n",
       "      <td>Milan royal</td>\n",
       "      <td>2019</td>\n",
       "      <td>1780.0</td>\n",
       "    </tr>\n",
       "    <tr>\n",
       "      <th>18</th>\n",
       "      <td>Cigogne noire</td>\n",
       "      <td>2019</td>\n",
       "      <td>259.0</td>\n",
       "    </tr>\n",
       "    <tr>\n",
       "      <th>19</th>\n",
       "      <td>Épervier d’Europe</td>\n",
       "      <td>2019</td>\n",
       "      <td>247.0</td>\n",
       "    </tr>\n",
       "    <tr>\n",
       "      <th>20</th>\n",
       "      <td>Milan noir</td>\n",
       "      <td>2020</td>\n",
       "      <td>67109.0</td>\n",
       "    </tr>\n",
       "    <tr>\n",
       "      <th>21</th>\n",
       "      <td>Bondrée apivore</td>\n",
       "      <td>2020</td>\n",
       "      <td>5229.0</td>\n",
       "    </tr>\n",
       "    <tr>\n",
       "      <th>22</th>\n",
       "      <td>Milan royal</td>\n",
       "      <td>2020</td>\n",
       "      <td>773.0</td>\n",
       "    </tr>\n",
       "    <tr>\n",
       "      <th>23</th>\n",
       "      <td>Épervier d’Europe</td>\n",
       "      <td>2020</td>\n",
       "      <td>380.0</td>\n",
       "    </tr>\n",
       "    <tr>\n",
       "      <th>24</th>\n",
       "      <td>Cigogne blanche</td>\n",
       "      <td>2020</td>\n",
       "      <td>271.0</td>\n",
       "    </tr>\n",
       "    <tr>\n",
       "      <th>25</th>\n",
       "      <td>Martinet noir</td>\n",
       "      <td>2021</td>\n",
       "      <td>60508.0</td>\n",
       "    </tr>\n",
       "    <tr>\n",
       "      <th>26</th>\n",
       "      <td>Milan noir</td>\n",
       "      <td>2021</td>\n",
       "      <td>57600.0</td>\n",
       "    </tr>\n",
       "    <tr>\n",
       "      <th>27</th>\n",
       "      <td>Hirondelle rustique</td>\n",
       "      <td>2021</td>\n",
       "      <td>18912.0</td>\n",
       "    </tr>\n",
       "    <tr>\n",
       "      <th>28</th>\n",
       "      <td>hirondelle spec.</td>\n",
       "      <td>2021</td>\n",
       "      <td>13271.0</td>\n",
       "    </tr>\n",
       "    <tr>\n",
       "      <th>29</th>\n",
       "      <td>Hirondelle de fenêtre</td>\n",
       "      <td>2021</td>\n",
       "      <td>10266.0</td>\n",
       "    </tr>\n",
       "    <tr>\n",
       "      <th>30</th>\n",
       "      <td>Martinet noir</td>\n",
       "      <td>2022</td>\n",
       "      <td>71797.0</td>\n",
       "    </tr>\n",
       "    <tr>\n",
       "      <th>31</th>\n",
       "      <td>Milan noir</td>\n",
       "      <td>2022</td>\n",
       "      <td>51477.0</td>\n",
       "    </tr>\n",
       "    <tr>\n",
       "      <th>32</th>\n",
       "      <td>Hirondelle de fenêtre</td>\n",
       "      <td>2022</td>\n",
       "      <td>31264.0</td>\n",
       "    </tr>\n",
       "    <tr>\n",
       "      <th>33</th>\n",
       "      <td>Hirondelle rustique</td>\n",
       "      <td>2022</td>\n",
       "      <td>7382.0</td>\n",
       "    </tr>\n",
       "    <tr>\n",
       "      <th>34</th>\n",
       "      <td>Bondrée apivore</td>\n",
       "      <td>2022</td>\n",
       "      <td>3926.0</td>\n",
       "    </tr>\n",
       "    <tr>\n",
       "      <th>35</th>\n",
       "      <td>Milan noir</td>\n",
       "      <td>2023</td>\n",
       "      <td>78583.0</td>\n",
       "    </tr>\n",
       "    <tr>\n",
       "      <th>36</th>\n",
       "      <td>Martinet noir</td>\n",
       "      <td>2023</td>\n",
       "      <td>68434.0</td>\n",
       "    </tr>\n",
       "    <tr>\n",
       "      <th>37</th>\n",
       "      <td>Hirondelle de fenêtre</td>\n",
       "      <td>2023</td>\n",
       "      <td>28976.0</td>\n",
       "    </tr>\n",
       "    <tr>\n",
       "      <th>38</th>\n",
       "      <td>Hirondelle rustique</td>\n",
       "      <td>2023</td>\n",
       "      <td>8484.0</td>\n",
       "    </tr>\n",
       "    <tr>\n",
       "      <th>39</th>\n",
       "      <td>Bondrée apivore</td>\n",
       "      <td>2023</td>\n",
       "      <td>6013.0</td>\n",
       "    </tr>\n",
       "  </tbody>\n",
       "</table>\n",
       "</div>"
      ],
      "text/plain": [
       "                  species  year  direction1\n",
       "0              Milan noir  2016     44157.0\n",
       "1         Bondrée apivore  2016      4517.0\n",
       "2   Hirondelle de fenêtre  2016      1436.0\n",
       "3     Hirondelle rustique  2016       662.0\n",
       "4             Milan royal  2016       561.0\n",
       "5              Milan noir  2017     43164.0\n",
       "6           Martinet noir  2017      8449.0\n",
       "7         Bondrée apivore  2017      4920.0\n",
       "8     Hirondelle rustique  2017      3814.0\n",
       "9             Milan royal  2017      2991.0\n",
       "10             Milan noir  2018     46090.0\n",
       "11        Bondrée apivore  2018      6232.0\n",
       "12          Martinet noir  2018      1708.0\n",
       "13            Milan royal  2018       969.0\n",
       "14        Cigogne blanche  2018       285.0\n",
       "15             Milan noir  2019     57042.0\n",
       "16        Bondrée apivore  2019      5546.0\n",
       "17            Milan royal  2019      1780.0\n",
       "18          Cigogne noire  2019       259.0\n",
       "19      Épervier d’Europe  2019       247.0\n",
       "20             Milan noir  2020     67109.0\n",
       "21        Bondrée apivore  2020      5229.0\n",
       "22            Milan royal  2020       773.0\n",
       "23      Épervier d’Europe  2020       380.0\n",
       "24        Cigogne blanche  2020       271.0\n",
       "25          Martinet noir  2021     60508.0\n",
       "26             Milan noir  2021     57600.0\n",
       "27    Hirondelle rustique  2021     18912.0\n",
       "28       hirondelle spec.  2021     13271.0\n",
       "29  Hirondelle de fenêtre  2021     10266.0\n",
       "30          Martinet noir  2022     71797.0\n",
       "31             Milan noir  2022     51477.0\n",
       "32  Hirondelle de fenêtre  2022     31264.0\n",
       "33    Hirondelle rustique  2022      7382.0\n",
       "34        Bondrée apivore  2022      3926.0\n",
       "35             Milan noir  2023     78583.0\n",
       "36          Martinet noir  2023     68434.0\n",
       "37  Hirondelle de fenêtre  2023     28976.0\n",
       "38    Hirondelle rustique  2023      8484.0\n",
       "39        Bondrée apivore  2023      6013.0"
      ]
     },
     "execution_count": 27,
     "metadata": {},
     "output_type": "execute_result"
    }
   ],
   "source": [
    "top_5_species_per_year"
   ]
  },
  {
   "cell_type": "code",
   "execution_count": 28,
   "metadata": {},
   "outputs": [
    {
     "data": {
      "text/plain": [
       "array(['Milan noir', 'Bondrée apivore', 'Hirondelle de fenêtre',\n",
       "       'Hirondelle rustique', 'Milan royal', 'Martinet noir',\n",
       "       'Cigogne blanche', 'Cigogne noire', 'Épervier d’Europe',\n",
       "       'hirondelle spec.'], dtype=object)"
      ]
     },
     "execution_count": 28,
     "metadata": {},
     "output_type": "execute_result"
    }
   ],
   "source": [
    "top_5_species_per_year.species.unique()"
   ]
  },
  {
   "cell_type": "code",
   "execution_count": 29,
   "metadata": {},
   "outputs": [
    {
     "data": {
      "text/html": [
       "<div>\n",
       "<style scoped>\n",
       "    .dataframe tbody tr th:only-of-type {\n",
       "        vertical-align: middle;\n",
       "    }\n",
       "\n",
       "    .dataframe tbody tr th {\n",
       "        vertical-align: top;\n",
       "    }\n",
       "\n",
       "    .dataframe thead th {\n",
       "        text-align: right;\n",
       "    }\n",
       "</style>\n",
       "<table border=\"1\" class=\"dataframe\">\n",
       "  <thead>\n",
       "    <tr style=\"text-align: right;\">\n",
       "      <th></th>\n",
       "      <th>species</th>\n",
       "      <th>year</th>\n",
       "      <th>direction1</th>\n",
       "    </tr>\n",
       "  </thead>\n",
       "  <tbody>\n",
       "    <tr>\n",
       "      <th>0</th>\n",
       "      <td>Milan noir</td>\n",
       "      <td>2016</td>\n",
       "      <td>44157.0</td>\n",
       "    </tr>\n",
       "    <tr>\n",
       "      <th>1</th>\n",
       "      <td>Bondrée apivore</td>\n",
       "      <td>2016</td>\n",
       "      <td>4517.0</td>\n",
       "    </tr>\n",
       "    <tr>\n",
       "      <th>2</th>\n",
       "      <td>Hirondelle de fenêtre</td>\n",
       "      <td>2016</td>\n",
       "      <td>1436.0</td>\n",
       "    </tr>\n",
       "    <tr>\n",
       "      <th>3</th>\n",
       "      <td>Milan noir</td>\n",
       "      <td>2017</td>\n",
       "      <td>43164.0</td>\n",
       "    </tr>\n",
       "    <tr>\n",
       "      <th>4</th>\n",
       "      <td>Martinet noir</td>\n",
       "      <td>2017</td>\n",
       "      <td>8449.0</td>\n",
       "    </tr>\n",
       "  </tbody>\n",
       "</table>\n",
       "</div>"
      ],
      "text/plain": [
       "                 species  year  direction1\n",
       "0             Milan noir  2016     44157.0\n",
       "1        Bondrée apivore  2016      4517.0\n",
       "2  Hirondelle de fenêtre  2016      1436.0\n",
       "3             Milan noir  2017     43164.0\n",
       "4          Martinet noir  2017      8449.0"
      ]
     },
     "execution_count": 29,
     "metadata": {},
     "output_type": "execute_result"
    }
   ],
   "source": [
    "top_3_species_per_year.head()"
   ]
  },
  {
   "cell_type": "code",
   "execution_count": 30,
   "metadata": {},
   "outputs": [
    {
     "data": {
      "text/plain": [
       "<AxesSubplot:xlabel='year', ylabel='direction1'>"
      ]
     },
     "execution_count": 30,
     "metadata": {},
     "output_type": "execute_result"
    },
    {
     "data": {
      "image/png": "[encoded data removed]",
      "text/plain": [
       "<Figure size 640x480 with 1 Axes>"
      ]
     },
     "metadata": {},
     "output_type": "display_data"
    }
   ],
   "source": [
    "sns.barplot(data=top_3_species_per_year, x='year', y='direction1', hue='species')"
   ]
  },
  {
   "cell_type": "markdown",
   "metadata": {},
   "source": [
    "### B) Species list: Milan noir, Bondrée apivore, Milan royal = data_day_milan_noir_bondree_milan_royal"
   ]
  },
  {
   "cell_type": "code",
   "execution_count": 33,
   "metadata": {},
   "outputs": [],
   "source": [
    "# Filter for specific species\n",
    "data_day_milan_noir_bondree_milan_royal = cleaned_data_day[cleaned_data_day['species'].isin( ['Milan noir', 'Bondrée apivore', 'Milan royal'])]\n",
    "data_day_milan_noir_bondree_milan_royal = data_day_milan_noir_bondree_milan_royal.loc[data_day_milan_noir_bondree_milan_royal['direction1'] > 0]"
   ]
  },
  {
   "cell_type": "code",
   "execution_count": 34,
   "metadata": {},
   "outputs": [
    {
     "data": {
      "text/html": [
       "<div>\n",
       "<style scoped>\n",
       "    .dataframe tbody tr th:only-of-type {\n",
       "        vertical-align: middle;\n",
       "    }\n",
       "\n",
       "    .dataframe tbody tr th {\n",
       "        vertical-align: top;\n",
       "    }\n",
       "\n",
       "    .dataframe thead th {\n",
       "        text-align: right;\n",
       "    }\n",
       "</style>\n",
       "<table border=\"1\" class=\"dataframe\">\n",
       "  <thead>\n",
       "    <tr style=\"text-align: right;\">\n",
       "      <th></th>\n",
       "      <th>date_dt</th>\n",
       "      <th>year</th>\n",
       "      <th>month</th>\n",
       "      <th>day</th>\n",
       "      <th>start_time</th>\n",
       "      <th>stop_time</th>\n",
       "      <th>day_duration</th>\n",
       "      <th>observers</th>\n",
       "      <th>observersactive</th>\n",
       "      <th>observerspresent</th>\n",
       "      <th>...</th>\n",
       "      <th>cloudcover</th>\n",
       "      <th>cloudheight</th>\n",
       "      <th>precipitation</th>\n",
       "      <th>perc_duration</th>\n",
       "      <th>visibility</th>\n",
       "      <th>temperature</th>\n",
       "      <th>n_observers</th>\n",
       "      <th>abundance_dir_1_per_observer</th>\n",
       "      <th>abundance_dir_2_per_observer</th>\n",
       "      <th>abundance_local_per_observer</th>\n",
       "    </tr>\n",
       "  </thead>\n",
       "  <tbody>\n",
       "    <tr>\n",
       "      <th>655</th>\n",
       "      <td>2016-07-18</td>\n",
       "      <td>2016</td>\n",
       "      <td>7</td>\n",
       "      <td>18</td>\n",
       "      <td>06:49:00</td>\n",
       "      <td>16:39:00</td>\n",
       "      <td>9.833333</td>\n",
       "      <td>MR, LDG, MC, Mijo Gariou</td>\n",
       "      <td>4.0</td>\n",
       "      <td>NaN</td>\n",
       "      <td>...</td>\n",
       "      <td>1.0</td>\n",
       "      <td>NaN</td>\n",
       "      <td>NaN</td>\n",
       "      <td>NaN</td>\n",
       "      <td>10000.0</td>\n",
       "      <td>21.0</td>\n",
       "      <td>4</td>\n",
       "      <td>47.0</td>\n",
       "      <td>0.0</td>\n",
       "      <td>0.0</td>\n",
       "    </tr>\n",
       "    <tr>\n",
       "      <th>662</th>\n",
       "      <td>2016-07-19</td>\n",
       "      <td>2016</td>\n",
       "      <td>7</td>\n",
       "      <td>19</td>\n",
       "      <td>06:36:00</td>\n",
       "      <td>16:47:00</td>\n",
       "      <td>10.183333</td>\n",
       "      <td>MR, QD, LDG, GS</td>\n",
       "      <td>4.0</td>\n",
       "      <td>NaN</td>\n",
       "      <td>...</td>\n",
       "      <td>2.0</td>\n",
       "      <td>NaN</td>\n",
       "      <td>NaN</td>\n",
       "      <td>NaN</td>\n",
       "      <td>12000.0</td>\n",
       "      <td>34.0</td>\n",
       "      <td>4</td>\n",
       "      <td>42.5</td>\n",
       "      <td>0.0</td>\n",
       "      <td>0.0</td>\n",
       "    </tr>\n",
       "    <tr>\n",
       "      <th>664</th>\n",
       "      <td>2016-07-20</td>\n",
       "      <td>2016</td>\n",
       "      <td>7</td>\n",
       "      <td>20</td>\n",
       "      <td>06:54:00</td>\n",
       "      <td>16:15:00</td>\n",
       "      <td>9.350000</td>\n",
       "      <td>MR, MC</td>\n",
       "      <td>2.0</td>\n",
       "      <td>NaN</td>\n",
       "      <td>...</td>\n",
       "      <td>6.0</td>\n",
       "      <td>15000.0</td>\n",
       "      <td>mist</td>\n",
       "      <td>NaN</td>\n",
       "      <td>7000.0</td>\n",
       "      <td>17.0</td>\n",
       "      <td>2</td>\n",
       "      <td>0.5</td>\n",
       "      <td>0.0</td>\n",
       "      <td>0.0</td>\n",
       "    </tr>\n",
       "    <tr>\n",
       "      <th>676</th>\n",
       "      <td>2016-07-23</td>\n",
       "      <td>2016</td>\n",
       "      <td>7</td>\n",
       "      <td>23</td>\n",
       "      <td>07:02:00</td>\n",
       "      <td>17:00:00</td>\n",
       "      <td>9.966667</td>\n",
       "      <td>MR, LDG, QD, GS</td>\n",
       "      <td>3.0</td>\n",
       "      <td>NaN</td>\n",
       "      <td>...</td>\n",
       "      <td>4.0</td>\n",
       "      <td>2600.0</td>\n",
       "      <td>NaN</td>\n",
       "      <td>NaN</td>\n",
       "      <td>7000.0</td>\n",
       "      <td>16.0</td>\n",
       "      <td>4</td>\n",
       "      <td>380.5</td>\n",
       "      <td>0.0</td>\n",
       "      <td>0.0</td>\n",
       "    </tr>\n",
       "    <tr>\n",
       "      <th>678</th>\n",
       "      <td>2016-07-24</td>\n",
       "      <td>2016</td>\n",
       "      <td>7</td>\n",
       "      <td>24</td>\n",
       "      <td>07:00:00</td>\n",
       "      <td>13:32:00</td>\n",
       "      <td>6.533333</td>\n",
       "      <td>MR, QD, LDG, GV</td>\n",
       "      <td>3.0</td>\n",
       "      <td>NaN</td>\n",
       "      <td>...</td>\n",
       "      <td>8.0</td>\n",
       "      <td>1400.0</td>\n",
       "      <td>mist</td>\n",
       "      <td>NaN</td>\n",
       "      <td>2000.0</td>\n",
       "      <td>15.0</td>\n",
       "      <td>4</td>\n",
       "      <td>46.0</td>\n",
       "      <td>0.0</td>\n",
       "      <td>0.0</td>\n",
       "    </tr>\n",
       "  </tbody>\n",
       "</table>\n",
       "<p>5 rows × 28 columns</p>\n",
       "</div>"
      ],
      "text/plain": [
       "        date_dt  year  month  day start_time stop_time  day_duration  \\\n",
       "655  2016-07-18  2016      7   18   06:49:00  16:39:00      9.833333   \n",
       "662  2016-07-19  2016      7   19   06:36:00  16:47:00     10.183333   \n",
       "664  2016-07-20  2016      7   20   06:54:00  16:15:00      9.350000   \n",
       "676  2016-07-23  2016      7   23   07:02:00  17:00:00      9.966667   \n",
       "678  2016-07-24  2016      7   24   07:00:00  13:32:00      6.533333   \n",
       "\n",
       "                    observers  observersactive  observerspresent  ...  \\\n",
       "655  MR, LDG, MC, Mijo Gariou              4.0               NaN  ...   \n",
       "662           MR, QD, LDG, GS              4.0               NaN  ...   \n",
       "664                    MR, MC              2.0               NaN  ...   \n",
       "676           MR, LDG, QD, GS              3.0               NaN  ...   \n",
       "678           MR, QD, LDG, GV              3.0               NaN  ...   \n",
       "\n",
       "    cloudcover  cloudheight  precipitation  perc_duration visibility  \\\n",
       "655        1.0          NaN            NaN            NaN    10000.0   \n",
       "662        2.0          NaN            NaN            NaN    12000.0   \n",
       "664        6.0      15000.0           mist            NaN     7000.0   \n",
       "676        4.0       2600.0            NaN            NaN     7000.0   \n",
       "678        8.0       1400.0           mist            NaN     2000.0   \n",
       "\n",
       "     temperature  n_observers abundance_dir_1_per_observer  \\\n",
       "655         21.0            4                         47.0   \n",
       "662         34.0            4                         42.5   \n",
       "664         17.0            2                          0.5   \n",
       "676         16.0            4                        380.5   \n",
       "678         15.0            4                         46.0   \n",
       "\n",
       "     abundance_dir_2_per_observer  abundance_local_per_observer  \n",
       "655                           0.0                           0.0  \n",
       "662                           0.0                           0.0  \n",
       "664                           0.0                           0.0  \n",
       "676                           0.0                           0.0  \n",
       "678                           0.0                           0.0  \n",
       "\n",
       "[5 rows x 28 columns]"
      ]
     },
     "execution_count": 34,
     "metadata": {},
     "output_type": "execute_result"
    }
   ],
   "source": [
    "data_day_milan_noir_bondree_milan_royal.head()"
   ]
  },
  {
   "cell_type": "code",
   "execution_count": 35,
   "metadata": {},
   "outputs": [],
   "source": [
    "# Export data_day table (for analysis) to csv in the folder 'tableaux_finaux' (you to create this folder manually before)\n",
    "data_day_milan_noir_bondree_milan_royal.to_csv('../raw_data/Trektellen/tableaux_finaux/data_day_milan_noir_bondree_milan_royal.csv', index = False)"
   ]
  }
 ],
 "metadata": {
  "kernelspec": {
   "display_name": "Python 3",
   "language": "python",
   "name": "python3"
  },
  "language_info": {
   "codemirror_mode": {
    "name": "ipython",
    "version": 3
   },
   "file_extension": ".py",
   "mimetype": "text/x-python",
   "name": "python",
   "nbconvert_exporter": "python",
   "pygments_lexer": "ipython3",
   "version": "3.10.6"
  }
 },
 "nbformat": 4,
 "nbformat_minor": 2
}
