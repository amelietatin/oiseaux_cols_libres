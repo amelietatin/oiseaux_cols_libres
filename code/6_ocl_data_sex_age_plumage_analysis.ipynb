{
 "cells": [
  {
   "cell_type": "markdown",
   "metadata": {},
   "source": [
    "## Packages"
   ]
  },
  {
   "cell_type": "code",
   "execution_count": 43,
   "metadata": {},
   "outputs": [],
   "source": [
    "import pandas as pd\n",
    "import seaborn as sns\n",
    "import matplotlib.pyplot as plt"
   ]
  },
  {
   "cell_type": "code",
   "execution_count": 71,
   "metadata": {},
   "outputs": [],
   "source": [
    "data_hour = pd.read_csv('../raw_data/Trektellen/tableaux_finaux/data_hour_for_analysis.csv')"
   ]
  },
  {
   "cell_type": "code",
   "execution_count": 72,
   "metadata": {},
   "outputs": [
    {
     "name": "stdout",
     "output_type": "stream",
     "text": [
      "<class 'pandas.core.frame.DataFrame'>\n",
      "RangeIndex: 47336 entries, 0 to 47335\n",
      "Data columns (total 12 columns):\n",
      " #   Column      Non-Null Count  Dtype \n",
      "---  ------      --------------  ----- \n",
      " 0   date_dt     47336 non-null  object\n",
      " 1   year        47336 non-null  int64 \n",
      " 2   month       47336 non-null  int64 \n",
      " 3   day         47336 non-null  int64 \n",
      " 4   timestamp   43528 non-null  object\n",
      " 5   species     47336 non-null  object\n",
      " 6   direction1  47336 non-null  int64 \n",
      " 7   direction2  47336 non-null  int64 \n",
      " 8   local       47336 non-null  int64 \n",
      " 9   age         9478 non-null   object\n",
      " 10  sex         3455 non-null   object\n",
      " 11  plumage     920 non-null    object\n",
      "dtypes: int64(6), object(6)\n",
      "memory usage: 4.3+ MB\n"
     ]
    }
   ],
   "source": [
    "data_hour.info()"
   ]
  },
  {
   "cell_type": "code",
   "execution_count": 73,
   "metadata": {},
   "outputs": [
    {
     "data": {
      "text/plain": [
       "array([nan, '1', 'I', 'A', 'S', 'J', '4', '3', '2', 'Non-Juv',\n",
       "       'non_adult'], dtype=object)"
      ]
     },
     "execution_count": 73,
     "metadata": {},
     "output_type": "execute_result"
    }
   ],
   "source": [
    "data_hour.age.unique()\n"
   ]
  },
  {
   "cell_type": "code",
   "execution_count": null,
   "metadata": {},
   "outputs": [],
   "source": []
  },
  {
   "cell_type": "code",
   "execution_count": 74,
   "metadata": {},
   "outputs": [
    {
     "data": {
      "text/plain": [
       "array(['Milan noir', 'Bondrée apivore', 'Busard des roseaux',\n",
       "       'Cigogne noire', 'Balbuzard pêcheur', 'Busard cendré',\n",
       "       'Circaète Jean-le-Blanc', 'Buse variable', 'laridé spec.',\n",
       "       'Busard Saint-Martin/cendré/pâle', 'Busard Saint-Martin',\n",
       "       'Faucon d’Éléonore', 'Épervier d’Europe', 'Aigle botté',\n",
       "       'Busard cendré/pâle', 'Faucon hobereau', 'Vautour percnoptère',\n",
       "       'Grand Cormoran', 'Martinet noir', 'Cigogne blanche',\n",
       "       'Busard pâle', 'Faucon crécerelle', 'Coucou gris', 'Milan royal',\n",
       "       'rapace spec.', 'Élanion blac', 'Faucon émerillon', 'Héron cendré',\n",
       "       'Vanneau huppé', 'Faucon crécerellette', 'Bécasseau variable',\n",
       "       'Autour des palombes', 'Labbe à longue queue', 'Goéland leucophée',\n",
       "       'Faucon crécerelle / Faucon crécerellette'], dtype=object)"
      ]
     },
     "execution_count": 74,
     "metadata": {},
     "output_type": "execute_result"
    }
   ],
   "source": [
    "# How many species have sex info?\n",
    "data_hour_age = data_hour[['date_dt', 'timestamp','species', 'age', 'direction1']].dropna()\n",
    "data_hour_age = data_hour_age.loc[data_hour_age['direction1'] > 0]\n",
    "data_hour_age.species.unique()"
   ]
  },
  {
   "cell_type": "code",
   "execution_count": 75,
   "metadata": {},
   "outputs": [
    {
     "data": {
      "text/plain": [
       "array(['Busard des roseaux', 'Busard cendré', 'Balbuzard pêcheur',\n",
       "       'Busard Saint-Martin', 'Épervier d’Europe', 'busard spec.',\n",
       "       'Autour des palombes', 'Bondrée apivore',\n",
       "       'Busard Saint-Martin/cendré/pâle', 'Faucon crécerelle',\n",
       "       'Busard cendré/pâle', 'Busard pâle', 'Aigle botté',\n",
       "       'Faucon émerillon', 'Circaète Jean-le-Blanc',\n",
       "       'Faucon crécerellette', 'Loriot d’Europe', 'Souci',\n",
       "       'Faucon crécerelle / Faucon crécerellette', 'Citron',\n",
       "       'Coucou gris', 'Bruant ortolan'], dtype=object)"
      ]
     },
     "execution_count": 75,
     "metadata": {},
     "output_type": "execute_result"
    }
   ],
   "source": [
    "data_hour_sex = data_hour[['date_dt', 'timestamp','species', 'sex', 'direction1']].dropna()\n",
    "data_hour_sex = data_hour_sex.loc[data_hour_sex['direction1'] > 0]\n",
    "data_hour_sex.species.unique()"
   ]
  },
  {
   "cell_type": "code",
   "execution_count": 76,
   "metadata": {},
   "outputs": [
    {
     "data": {
      "text/plain": [
       "array(['Aigle botté', 'Cigogne noire', 'Milan noir', 'Faucon d’Éléonore',\n",
       "       'Bondrée apivore', 'Busard des roseaux', 'Buse variable'],\n",
       "      dtype=object)"
      ]
     },
     "execution_count": 76,
     "metadata": {},
     "output_type": "execute_result"
    }
   ],
   "source": [
    "data_hour_plumage = data_hour[['date_dt', 'timestamp','species', 'plumage', 'direction1']].dropna()\n",
    "data_hour_plumage = data_hour_plumage.loc[data_hour_plumage['direction1'] > 0]\n",
    "data_hour_plumage.species.unique()"
   ]
  },
  {
   "cell_type": "code",
   "execution_count": 77,
   "metadata": {},
   "outputs": [],
   "source": [
    "# Plus\n",
    "# Milan noir: âge\n",
    "# Bondrée apivore: âge, sex\n",
    "# Aigle boté plumage"
   ]
  },
  {
   "cell_type": "markdown",
   "metadata": {},
   "source": [
    "## Milan noir"
   ]
  },
  {
   "cell_type": "code",
   "execution_count": 78,
   "metadata": {},
   "outputs": [
    {
     "data": {
      "text/html": [
       "<div>\n",
       "<style scoped>\n",
       "    .dataframe tbody tr th:only-of-type {\n",
       "        vertical-align: middle;\n",
       "    }\n",
       "\n",
       "    .dataframe tbody tr th {\n",
       "        vertical-align: top;\n",
       "    }\n",
       "\n",
       "    .dataframe thead th {\n",
       "        text-align: right;\n",
       "    }\n",
       "</style>\n",
       "<table border=\"1\" class=\"dataframe\">\n",
       "  <thead>\n",
       "    <tr style=\"text-align: right;\">\n",
       "      <th></th>\n",
       "      <th>date_dt</th>\n",
       "      <th>timestamp</th>\n",
       "      <th>species</th>\n",
       "      <th>age</th>\n",
       "      <th>direction1</th>\n",
       "    </tr>\n",
       "  </thead>\n",
       "  <tbody>\n",
       "    <tr>\n",
       "      <th>5</th>\n",
       "      <td>2011-01-09</td>\n",
       "      <td>13:30:00</td>\n",
       "      <td>Milan noir</td>\n",
       "      <td>1</td>\n",
       "      <td>1</td>\n",
       "    </tr>\n",
       "    <tr>\n",
       "      <th>6</th>\n",
       "      <td>2011-01-09</td>\n",
       "      <td>11:25:00</td>\n",
       "      <td>Milan noir</td>\n",
       "      <td>I</td>\n",
       "      <td>2</td>\n",
       "    </tr>\n",
       "    <tr>\n",
       "      <th>104</th>\n",
       "      <td>2011-02-09</td>\n",
       "      <td>13:50:00</td>\n",
       "      <td>Milan noir</td>\n",
       "      <td>I</td>\n",
       "      <td>1</td>\n",
       "    </tr>\n",
       "    <tr>\n",
       "      <th>108</th>\n",
       "      <td>2011-02-09</td>\n",
       "      <td>13:50:00</td>\n",
       "      <td>Milan noir</td>\n",
       "      <td>1</td>\n",
       "      <td>1</td>\n",
       "    </tr>\n",
       "    <tr>\n",
       "      <th>326</th>\n",
       "      <td>2011-06-09</td>\n",
       "      <td>12:25:00</td>\n",
       "      <td>Milan noir</td>\n",
       "      <td>1</td>\n",
       "      <td>3</td>\n",
       "    </tr>\n",
       "    <tr>\n",
       "      <th>...</th>\n",
       "      <td>...</td>\n",
       "      <td>...</td>\n",
       "      <td>...</td>\n",
       "      <td>...</td>\n",
       "      <td>...</td>\n",
       "    </tr>\n",
       "    <tr>\n",
       "      <th>47266</th>\n",
       "      <td>2023-12-08</td>\n",
       "      <td>13:03:46</td>\n",
       "      <td>Milan noir</td>\n",
       "      <td>I</td>\n",
       "      <td>4</td>\n",
       "    </tr>\n",
       "    <tr>\n",
       "      <th>47267</th>\n",
       "      <td>2023-12-08</td>\n",
       "      <td>13:03:51</td>\n",
       "      <td>Milan noir</td>\n",
       "      <td>1</td>\n",
       "      <td>1</td>\n",
       "    </tr>\n",
       "    <tr>\n",
       "      <th>47270</th>\n",
       "      <td>2023-12-08</td>\n",
       "      <td>13:29:08</td>\n",
       "      <td>Milan noir</td>\n",
       "      <td>1</td>\n",
       "      <td>3</td>\n",
       "    </tr>\n",
       "    <tr>\n",
       "      <th>47271</th>\n",
       "      <td>2023-12-08</td>\n",
       "      <td>13:29:12</td>\n",
       "      <td>Milan noir</td>\n",
       "      <td>I</td>\n",
       "      <td>4</td>\n",
       "    </tr>\n",
       "    <tr>\n",
       "      <th>47276</th>\n",
       "      <td>2023-12-08</td>\n",
       "      <td>13:06:59</td>\n",
       "      <td>Milan noir</td>\n",
       "      <td>1</td>\n",
       "      <td>1</td>\n",
       "    </tr>\n",
       "  </tbody>\n",
       "</table>\n",
       "<p>2462 rows × 5 columns</p>\n",
       "</div>"
      ],
      "text/plain": [
       "          date_dt timestamp     species age  direction1\n",
       "5      2011-01-09  13:30:00  Milan noir   1           1\n",
       "6      2011-01-09  11:25:00  Milan noir   I           2\n",
       "104    2011-02-09  13:50:00  Milan noir   I           1\n",
       "108    2011-02-09  13:50:00  Milan noir   1           1\n",
       "326    2011-06-09  12:25:00  Milan noir   1           3\n",
       "...           ...       ...         ...  ..         ...\n",
       "47266  2023-12-08  13:03:46  Milan noir   I           4\n",
       "47267  2023-12-08  13:03:51  Milan noir   1           1\n",
       "47270  2023-12-08  13:29:08  Milan noir   1           3\n",
       "47271  2023-12-08  13:29:12  Milan noir   I           4\n",
       "47276  2023-12-08  13:06:59  Milan noir   1           1\n",
       "\n",
       "[2462 rows x 5 columns]"
      ]
     },
     "execution_count": 78,
     "metadata": {},
     "output_type": "execute_result"
    }
   ],
   "source": [
    "milan_noir_age = data_hour_age[data_hour_age['species'].isin(['Milan noir'])]\n",
    "milan_noir_age"
   ]
  },
  {
   "cell_type": "code",
   "execution_count": 79,
   "metadata": {},
   "outputs": [
    {
     "data": {
      "text/html": [
       "<div>\n",
       "<style scoped>\n",
       "    .dataframe tbody tr th:only-of-type {\n",
       "        vertical-align: middle;\n",
       "    }\n",
       "\n",
       "    .dataframe tbody tr th {\n",
       "        vertical-align: top;\n",
       "    }\n",
       "\n",
       "    .dataframe thead th {\n",
       "        text-align: right;\n",
       "    }\n",
       "</style>\n",
       "<table border=\"1\" class=\"dataframe\">\n",
       "  <thead>\n",
       "    <tr style=\"text-align: right;\">\n",
       "      <th></th>\n",
       "      <th>age</th>\n",
       "      <th>direction1</th>\n",
       "    </tr>\n",
       "  </thead>\n",
       "  <tbody>\n",
       "    <tr>\n",
       "      <th>0</th>\n",
       "      <td>1</td>\n",
       "      <td>6551</td>\n",
       "    </tr>\n",
       "    <tr>\n",
       "      <th>1</th>\n",
       "      <td>2</td>\n",
       "      <td>25</td>\n",
       "    </tr>\n",
       "    <tr>\n",
       "      <th>2</th>\n",
       "      <td>A</td>\n",
       "      <td>3298</td>\n",
       "    </tr>\n",
       "    <tr>\n",
       "      <th>3</th>\n",
       "      <td>I</td>\n",
       "      <td>13582</td>\n",
       "    </tr>\n",
       "    <tr>\n",
       "      <th>4</th>\n",
       "      <td>J</td>\n",
       "      <td>1404</td>\n",
       "    </tr>\n",
       "    <tr>\n",
       "      <th>5</th>\n",
       "      <td>Non-Juv</td>\n",
       "      <td>126</td>\n",
       "    </tr>\n",
       "  </tbody>\n",
       "</table>\n",
       "</div>"
      ],
      "text/plain": [
       "       age  direction1\n",
       "0        1        6551\n",
       "1        2          25\n",
       "2        A        3298\n",
       "3        I       13582\n",
       "4        J        1404\n",
       "5  Non-Juv         126"
      ]
     },
     "execution_count": 79,
     "metadata": {},
     "output_type": "execute_result"
    }
   ],
   "source": [
    "n_obs_age_milan_noir = milan_noir_age.groupby(['age'])['direction1'].sum().reset_index()\n",
    "n_obs_age_milan_noir"
   ]
  },
  {
   "cell_type": "code",
   "execution_count": 123,
   "metadata": {},
   "outputs": [
    {
     "data": {
      "text/plain": [
       "<Figure size 1000x500 with 0 Axes>"
      ]
     },
     "metadata": {},
     "output_type": "display_data"
    },
    {
     "data": {
      "image/png": "[encoded data removed]",
      "text/plain": [
       "<Figure size 640x480 with 1 Axes>"
      ]
     },
     "metadata": {},
     "output_type": "display_data"
    }
   ],
   "source": [
    "# Figure all years\n",
    "plt.figure(figsize=(10,5))\n",
    "\n",
    "fig, ax = plt.subplots()\n",
    "ax.pie(n_obs_age_milan_noir.direction1,\n",
    "       labels=n_obs_age_milan_noir.age,\n",
    "       labeldistance=1.15,\n",
    "       autopct='%1.1f%%',  # Add percentage labels\n",
    "       wedgeprops={'linewidth': 1, 'edgecolor': 'white'})\n",
    "\n",
    "plt.title(\"Proportion de chaque classe d'âge observée pour le milan noir en migration\", fontsize=10);\n",
    "\n",
    "plt.savefig('../figures/age_sex_plumage/age/prop_age_milan_noir_migration.png')"
   ]
  },
  {
   "cell_type": "markdown",
   "metadata": {},
   "source": [
    "## Bondrée apivore"
   ]
  },
  {
   "cell_type": "markdown",
   "metadata": {},
   "source": [
    "### Age"
   ]
  },
  {
   "cell_type": "code",
   "execution_count": 95,
   "metadata": {},
   "outputs": [
    {
     "data": {
      "text/html": [
       "<div>\n",
       "<style scoped>\n",
       "    .dataframe tbody tr th:only-of-type {\n",
       "        vertical-align: middle;\n",
       "    }\n",
       "\n",
       "    .dataframe tbody tr th {\n",
       "        vertical-align: top;\n",
       "    }\n",
       "\n",
       "    .dataframe thead th {\n",
       "        text-align: right;\n",
       "    }\n",
       "</style>\n",
       "<table border=\"1\" class=\"dataframe\">\n",
       "  <thead>\n",
       "    <tr style=\"text-align: right;\">\n",
       "      <th></th>\n",
       "      <th>date_dt</th>\n",
       "      <th>timestamp</th>\n",
       "      <th>species</th>\n",
       "      <th>age</th>\n",
       "      <th>direction1</th>\n",
       "    </tr>\n",
       "  </thead>\n",
       "  <tbody>\n",
       "    <tr>\n",
       "      <th>18</th>\n",
       "      <td>2011-01-09</td>\n",
       "      <td>18:05:00</td>\n",
       "      <td>Bondrée apivore</td>\n",
       "      <td>1</td>\n",
       "      <td>1</td>\n",
       "    </tr>\n",
       "    <tr>\n",
       "      <th>19</th>\n",
       "      <td>2011-01-09</td>\n",
       "      <td>17:55:00</td>\n",
       "      <td>Bondrée apivore</td>\n",
       "      <td>1</td>\n",
       "      <td>1</td>\n",
       "    </tr>\n",
       "    <tr>\n",
       "      <th>60</th>\n",
       "      <td>2011-01-09</td>\n",
       "      <td>16:00:00</td>\n",
       "      <td>Bondrée apivore</td>\n",
       "      <td>1</td>\n",
       "      <td>1</td>\n",
       "    </tr>\n",
       "    <tr>\n",
       "      <th>68</th>\n",
       "      <td>2011-01-09</td>\n",
       "      <td>16:15:00</td>\n",
       "      <td>Bondrée apivore</td>\n",
       "      <td>1</td>\n",
       "      <td>1</td>\n",
       "    </tr>\n",
       "    <tr>\n",
       "      <th>74</th>\n",
       "      <td>2011-01-09</td>\n",
       "      <td>11:10:00</td>\n",
       "      <td>Bondrée apivore</td>\n",
       "      <td>A</td>\n",
       "      <td>2</td>\n",
       "    </tr>\n",
       "    <tr>\n",
       "      <th>...</th>\n",
       "      <td>...</td>\n",
       "      <td>...</td>\n",
       "      <td>...</td>\n",
       "      <td>...</td>\n",
       "      <td>...</td>\n",
       "    </tr>\n",
       "    <tr>\n",
       "      <th>47037</th>\n",
       "      <td>2023-11-09</td>\n",
       "      <td>10:30:09</td>\n",
       "      <td>Bondrée apivore</td>\n",
       "      <td>1</td>\n",
       "      <td>1</td>\n",
       "    </tr>\n",
       "    <tr>\n",
       "      <th>47261</th>\n",
       "      <td>2023-12-08</td>\n",
       "      <td>13:00:59</td>\n",
       "      <td>Bondrée apivore</td>\n",
       "      <td>A</td>\n",
       "      <td>1</td>\n",
       "    </tr>\n",
       "    <tr>\n",
       "      <th>47274</th>\n",
       "      <td>2023-12-08</td>\n",
       "      <td>11:45:00</td>\n",
       "      <td>Bondrée apivore</td>\n",
       "      <td>A</td>\n",
       "      <td>1</td>\n",
       "    </tr>\n",
       "    <tr>\n",
       "      <th>47275</th>\n",
       "      <td>2023-12-08</td>\n",
       "      <td>12:51:54</td>\n",
       "      <td>Bondrée apivore</td>\n",
       "      <td>A</td>\n",
       "      <td>1</td>\n",
       "    </tr>\n",
       "    <tr>\n",
       "      <th>47317</th>\n",
       "      <td>2023-12-09</td>\n",
       "      <td>10:21:16</td>\n",
       "      <td>Bondrée apivore</td>\n",
       "      <td>1</td>\n",
       "      <td>1</td>\n",
       "    </tr>\n",
       "  </tbody>\n",
       "</table>\n",
       "<p>1486 rows × 5 columns</p>\n",
       "</div>"
      ],
      "text/plain": [
       "          date_dt timestamp          species age  direction1\n",
       "18     2011-01-09  18:05:00  Bondrée apivore   1           1\n",
       "19     2011-01-09  17:55:00  Bondrée apivore   1           1\n",
       "60     2011-01-09  16:00:00  Bondrée apivore   1           1\n",
       "68     2011-01-09  16:15:00  Bondrée apivore   1           1\n",
       "74     2011-01-09  11:10:00  Bondrée apivore   A           2\n",
       "...           ...       ...              ...  ..         ...\n",
       "47037  2023-11-09  10:30:09  Bondrée apivore   1           1\n",
       "47261  2023-12-08  13:00:59  Bondrée apivore   A           1\n",
       "47274  2023-12-08  11:45:00  Bondrée apivore   A           1\n",
       "47275  2023-12-08  12:51:54  Bondrée apivore   A           1\n",
       "47317  2023-12-09  10:21:16  Bondrée apivore   1           1\n",
       "\n",
       "[1486 rows x 5 columns]"
      ]
     },
     "execution_count": 95,
     "metadata": {},
     "output_type": "execute_result"
    }
   ],
   "source": [
    "bondree_age = data_hour_age[data_hour_age['species'].isin(['Bondrée apivore'])]\n",
    "bondree_age"
   ]
  },
  {
   "cell_type": "code",
   "execution_count": 96,
   "metadata": {},
   "outputs": [
    {
     "data": {
      "text/html": [
       "<div>\n",
       "<style scoped>\n",
       "    .dataframe tbody tr th:only-of-type {\n",
       "        vertical-align: middle;\n",
       "    }\n",
       "\n",
       "    .dataframe tbody tr th {\n",
       "        vertical-align: top;\n",
       "    }\n",
       "\n",
       "    .dataframe thead th {\n",
       "        text-align: right;\n",
       "    }\n",
       "</style>\n",
       "<table border=\"1\" class=\"dataframe\">\n",
       "  <thead>\n",
       "    <tr style=\"text-align: right;\">\n",
       "      <th></th>\n",
       "      <th>age</th>\n",
       "      <th>direction1</th>\n",
       "    </tr>\n",
       "  </thead>\n",
       "  <tbody>\n",
       "    <tr>\n",
       "      <th>0</th>\n",
       "      <td>1</td>\n",
       "      <td>553</td>\n",
       "    </tr>\n",
       "    <tr>\n",
       "      <th>1</th>\n",
       "      <td>A</td>\n",
       "      <td>1833</td>\n",
       "    </tr>\n",
       "    <tr>\n",
       "      <th>2</th>\n",
       "      <td>I</td>\n",
       "      <td>28</td>\n",
       "    </tr>\n",
       "    <tr>\n",
       "      <th>3</th>\n",
       "      <td>J</td>\n",
       "      <td>73</td>\n",
       "    </tr>\n",
       "    <tr>\n",
       "      <th>4</th>\n",
       "      <td>Non-Juv</td>\n",
       "      <td>5</td>\n",
       "    </tr>\n",
       "  </tbody>\n",
       "</table>\n",
       "</div>"
      ],
      "text/plain": [
       "       age  direction1\n",
       "0        1         553\n",
       "1        A        1833\n",
       "2        I          28\n",
       "3        J          73\n",
       "4  Non-Juv           5"
      ]
     },
     "execution_count": 96,
     "metadata": {},
     "output_type": "execute_result"
    }
   ],
   "source": [
    "n_obs_age_bondree = bondree_age.groupby(['age'])['direction1'].sum().reset_index()\n",
    "n_obs_age_bondree"
   ]
  },
  {
   "cell_type": "code",
   "execution_count": 107,
   "metadata": {},
   "outputs": [
    {
     "data": {
      "text/plain": [
       "<Figure size 1000x500 with 0 Axes>"
      ]
     },
     "metadata": {},
     "output_type": "display_data"
    },
    {
     "data": {
      "image/png": "[encoded data removed]",
      "text/plain": [
       "<Figure size 640x480 with 1 Axes>"
      ]
     },
     "metadata": {},
     "output_type": "display_data"
    }
   ],
   "source": [
    "# Figure all years\n",
    "plt.figure(figsize=(10,5))\n",
    "\n",
    "fig, ax = plt.subplots();\n",
    "\n",
    "ax.pie(n_obs_age_bondree.direction1,\n",
    "       labels=n_obs_age_bondree.age,\n",
    "       labeldistance=1.15,\n",
    "       autopct='%1.1f%%',  # Add percentage labels\n",
    "       wedgeprops={'linewidth': 1.5, 'edgecolor': 'white'});\n",
    "\n",
    "plt.title(\"Proportion de chaque classe d'âge observée pour la bondrée apivore en migration\", fontsize=10);\n",
    "\n",
    "plt.savefig('../figures/age_sex_plumage/age/prop_age_bondree_apivore_migration.png')"
   ]
  },
  {
   "cell_type": "markdown",
   "metadata": {},
   "source": [
    "### Sex"
   ]
  },
  {
   "cell_type": "code",
   "execution_count": 109,
   "metadata": {},
   "outputs": [
    {
     "data": {
      "text/html": [
       "<div>\n",
       "<style scoped>\n",
       "    .dataframe tbody tr th:only-of-type {\n",
       "        vertical-align: middle;\n",
       "    }\n",
       "\n",
       "    .dataframe tbody tr th {\n",
       "        vertical-align: top;\n",
       "    }\n",
       "\n",
       "    .dataframe thead th {\n",
       "        text-align: right;\n",
       "    }\n",
       "</style>\n",
       "<table border=\"1\" class=\"dataframe\">\n",
       "  <thead>\n",
       "    <tr style=\"text-align: right;\">\n",
       "      <th></th>\n",
       "      <th>date_dt</th>\n",
       "      <th>timestamp</th>\n",
       "      <th>species</th>\n",
       "      <th>sex</th>\n",
       "      <th>direction1</th>\n",
       "    </tr>\n",
       "  </thead>\n",
       "  <tbody>\n",
       "    <tr>\n",
       "      <th>6557</th>\n",
       "      <td>2017-02-08</td>\n",
       "      <td>15:40:00</td>\n",
       "      <td>Bondrée apivore</td>\n",
       "      <td>F</td>\n",
       "      <td>1</td>\n",
       "    </tr>\n",
       "    <tr>\n",
       "      <th>6823</th>\n",
       "      <td>2017-03-08</td>\n",
       "      <td>13:50:17</td>\n",
       "      <td>Bondrée apivore</td>\n",
       "      <td>F</td>\n",
       "      <td>1</td>\n",
       "    </tr>\n",
       "    <tr>\n",
       "      <th>7166</th>\n",
       "      <td>2017-05-09</td>\n",
       "      <td>11:30:59</td>\n",
       "      <td>Bondrée apivore</td>\n",
       "      <td>F</td>\n",
       "      <td>1</td>\n",
       "    </tr>\n",
       "    <tr>\n",
       "      <th>7178</th>\n",
       "      <td>2017-05-09</td>\n",
       "      <td>12:21:34</td>\n",
       "      <td>Bondrée apivore</td>\n",
       "      <td>M</td>\n",
       "      <td>1</td>\n",
       "    </tr>\n",
       "    <tr>\n",
       "      <th>7219</th>\n",
       "      <td>2017-05-09</td>\n",
       "      <td>09:43:21</td>\n",
       "      <td>Bondrée apivore</td>\n",
       "      <td>FC</td>\n",
       "      <td>1</td>\n",
       "    </tr>\n",
       "    <tr>\n",
       "      <th>...</th>\n",
       "      <td>...</td>\n",
       "      <td>...</td>\n",
       "      <td>...</td>\n",
       "      <td>...</td>\n",
       "      <td>...</td>\n",
       "    </tr>\n",
       "    <tr>\n",
       "      <th>46993</th>\n",
       "      <td>2023-11-09</td>\n",
       "      <td>11:41:27</td>\n",
       "      <td>Bondrée apivore</td>\n",
       "      <td>FC</td>\n",
       "      <td>1</td>\n",
       "    </tr>\n",
       "    <tr>\n",
       "      <th>46999</th>\n",
       "      <td>2023-11-09</td>\n",
       "      <td>11:41:14</td>\n",
       "      <td>Bondrée apivore</td>\n",
       "      <td>M</td>\n",
       "      <td>2</td>\n",
       "    </tr>\n",
       "    <tr>\n",
       "      <th>47261</th>\n",
       "      <td>2023-12-08</td>\n",
       "      <td>13:00:59</td>\n",
       "      <td>Bondrée apivore</td>\n",
       "      <td>F</td>\n",
       "      <td>1</td>\n",
       "    </tr>\n",
       "    <tr>\n",
       "      <th>47274</th>\n",
       "      <td>2023-12-08</td>\n",
       "      <td>11:45:00</td>\n",
       "      <td>Bondrée apivore</td>\n",
       "      <td>M</td>\n",
       "      <td>1</td>\n",
       "    </tr>\n",
       "    <tr>\n",
       "      <th>47275</th>\n",
       "      <td>2023-12-08</td>\n",
       "      <td>12:51:54</td>\n",
       "      <td>Bondrée apivore</td>\n",
       "      <td>F</td>\n",
       "      <td>1</td>\n",
       "    </tr>\n",
       "  </tbody>\n",
       "</table>\n",
       "<p>772 rows × 5 columns</p>\n",
       "</div>"
      ],
      "text/plain": [
       "          date_dt timestamp          species sex  direction1\n",
       "6557   2017-02-08  15:40:00  Bondrée apivore   F           1\n",
       "6823   2017-03-08  13:50:17  Bondrée apivore   F           1\n",
       "7166   2017-05-09  11:30:59  Bondrée apivore   F           1\n",
       "7178   2017-05-09  12:21:34  Bondrée apivore   M           1\n",
       "7219   2017-05-09  09:43:21  Bondrée apivore  FC           1\n",
       "...           ...       ...              ...  ..         ...\n",
       "46993  2023-11-09  11:41:27  Bondrée apivore  FC           1\n",
       "46999  2023-11-09  11:41:14  Bondrée apivore   M           2\n",
       "47261  2023-12-08  13:00:59  Bondrée apivore   F           1\n",
       "47274  2023-12-08  11:45:00  Bondrée apivore   M           1\n",
       "47275  2023-12-08  12:51:54  Bondrée apivore   F           1\n",
       "\n",
       "[772 rows x 5 columns]"
      ]
     },
     "execution_count": 109,
     "metadata": {},
     "output_type": "execute_result"
    }
   ],
   "source": [
    "bondree_sex = data_hour_sex[data_hour_sex['species'].isin(['Bondrée apivore'])]\n",
    "bondree_sex"
   ]
  },
  {
   "cell_type": "code",
   "execution_count": 111,
   "metadata": {},
   "outputs": [
    {
     "data": {
      "text/html": [
       "<div>\n",
       "<style scoped>\n",
       "    .dataframe tbody tr th:only-of-type {\n",
       "        vertical-align: middle;\n",
       "    }\n",
       "\n",
       "    .dataframe tbody tr th {\n",
       "        vertical-align: top;\n",
       "    }\n",
       "\n",
       "    .dataframe thead th {\n",
       "        text-align: right;\n",
       "    }\n",
       "</style>\n",
       "<table border=\"1\" class=\"dataframe\">\n",
       "  <thead>\n",
       "    <tr style=\"text-align: right;\">\n",
       "      <th></th>\n",
       "      <th>sex</th>\n",
       "      <th>direction1</th>\n",
       "    </tr>\n",
       "  </thead>\n",
       "  <tbody>\n",
       "    <tr>\n",
       "      <th>0</th>\n",
       "      <td>F</td>\n",
       "      <td>703</td>\n",
       "    </tr>\n",
       "    <tr>\n",
       "      <th>1</th>\n",
       "      <td>FC</td>\n",
       "      <td>15</td>\n",
       "    </tr>\n",
       "    <tr>\n",
       "      <th>2</th>\n",
       "      <td>M</td>\n",
       "      <td>550</td>\n",
       "    </tr>\n",
       "  </tbody>\n",
       "</table>\n",
       "</div>"
      ],
      "text/plain": [
       "  sex  direction1\n",
       "0   F         703\n",
       "1  FC          15\n",
       "2   M         550"
      ]
     },
     "execution_count": 111,
     "metadata": {},
     "output_type": "execute_result"
    }
   ],
   "source": [
    "n_obs_sex_bondree = bondree_sex.groupby(['sex'])['direction1'].sum().reset_index()\n",
    "n_obs_sex_bondree"
   ]
  },
  {
   "cell_type": "code",
   "execution_count": 122,
   "metadata": {},
   "outputs": [
    {
     "data": {
      "text/plain": [
       "<Figure size 1000x500 with 0 Axes>"
      ]
     },
     "metadata": {},
     "output_type": "display_data"
    },
    {
     "data": {
      "image/png": "[encoded data removed]",
      "text/plain": [
       "<Figure size 640x480 with 1 Axes>"
      ]
     },
     "metadata": {},
     "output_type": "display_data"
    }
   ],
   "source": [
    "# Figure all years\n",
    "plt.figure(figsize=(10,5))\n",
    "\n",
    "fig, ax = plt.subplots();\n",
    "\n",
    "ax.pie(n_obs_sex_bondree.direction1,\n",
    "       labels=n_obs_sex_bondree.sex,\n",
    "       labeldistance=1.15,\n",
    "       autopct='%1.1f%%',  # Add percentage labels\n",
    "       wedgeprops={'linewidth': 1.5, 'edgecolor': 'white'});\n",
    "\n",
    "plt.title(\"Proportion de mâles et femelles observés pour la bondrée apivore en migration\", fontsize=10);\n",
    "\n",
    "plt.savefig('../figures/age_sex_plumage/sex/prop_sex_bondree_apivore_migration.png')"
   ]
  },
  {
   "cell_type": "markdown",
   "metadata": {},
   "source": [
    "### Aigle botté"
   ]
  },
  {
   "cell_type": "code",
   "execution_count": 116,
   "metadata": {},
   "outputs": [],
   "source": [
    "aigle_bote_plumage = data_hour_plumage[data_hour_plumage['species'].isin(['Aigle botté'])]"
   ]
  },
  {
   "cell_type": "code",
   "execution_count": 117,
   "metadata": {},
   "outputs": [
    {
     "data": {
      "text/html": [
       "<div>\n",
       "<style scoped>\n",
       "    .dataframe tbody tr th:only-of-type {\n",
       "        vertical-align: middle;\n",
       "    }\n",
       "\n",
       "    .dataframe tbody tr th {\n",
       "        vertical-align: top;\n",
       "    }\n",
       "\n",
       "    .dataframe thead th {\n",
       "        text-align: right;\n",
       "    }\n",
       "</style>\n",
       "<table border=\"1\" class=\"dataframe\">\n",
       "  <thead>\n",
       "    <tr style=\"text-align: right;\">\n",
       "      <th></th>\n",
       "      <th>date_dt</th>\n",
       "      <th>timestamp</th>\n",
       "      <th>species</th>\n",
       "      <th>plumage</th>\n",
       "      <th>direction1</th>\n",
       "    </tr>\n",
       "  </thead>\n",
       "  <tbody>\n",
       "    <tr>\n",
       "      <th>26</th>\n",
       "      <td>2011-01-09</td>\n",
       "      <td>16:50:00</td>\n",
       "      <td>Aigle botté</td>\n",
       "      <td>D</td>\n",
       "      <td>1</td>\n",
       "    </tr>\n",
       "    <tr>\n",
       "      <th>5975</th>\n",
       "      <td>2016-09-21</td>\n",
       "      <td>10:23:59</td>\n",
       "      <td>Aigle botté</td>\n",
       "      <td>L</td>\n",
       "      <td>8</td>\n",
       "    </tr>\n",
       "    <tr>\n",
       "      <th>5980</th>\n",
       "      <td>2016-09-21</td>\n",
       "      <td>10:24:09</td>\n",
       "      <td>Aigle botté</td>\n",
       "      <td>D</td>\n",
       "      <td>4</td>\n",
       "    </tr>\n",
       "    <tr>\n",
       "      <th>5998</th>\n",
       "      <td>2016-09-22</td>\n",
       "      <td>10:30:31</td>\n",
       "      <td>Aigle botté</td>\n",
       "      <td>L</td>\n",
       "      <td>2</td>\n",
       "    </tr>\n",
       "    <tr>\n",
       "      <th>6000</th>\n",
       "      <td>2016-09-22</td>\n",
       "      <td>10:30:26</td>\n",
       "      <td>Aigle botté</td>\n",
       "      <td>D</td>\n",
       "      <td>3</td>\n",
       "    </tr>\n",
       "    <tr>\n",
       "      <th>...</th>\n",
       "      <td>...</td>\n",
       "      <td>...</td>\n",
       "      <td>...</td>\n",
       "      <td>...</td>\n",
       "      <td>...</td>\n",
       "    </tr>\n",
       "    <tr>\n",
       "      <th>45259</th>\n",
       "      <td>2023-09-29</td>\n",
       "      <td>14:21:33</td>\n",
       "      <td>Aigle botté</td>\n",
       "      <td>D</td>\n",
       "      <td>1</td>\n",
       "    </tr>\n",
       "    <tr>\n",
       "      <th>45261</th>\n",
       "      <td>2023-09-29</td>\n",
       "      <td>13:27:37</td>\n",
       "      <td>Aigle botté</td>\n",
       "      <td>D</td>\n",
       "      <td>1</td>\n",
       "    </tr>\n",
       "    <tr>\n",
       "      <th>45750</th>\n",
       "      <td>2023-10-09</td>\n",
       "      <td>14:29:19</td>\n",
       "      <td>Aigle botté</td>\n",
       "      <td>D</td>\n",
       "      <td>1</td>\n",
       "    </tr>\n",
       "    <tr>\n",
       "      <th>46130</th>\n",
       "      <td>2023-10-16</td>\n",
       "      <td>16:15:29</td>\n",
       "      <td>Aigle botté</td>\n",
       "      <td>D</td>\n",
       "      <td>1</td>\n",
       "    </tr>\n",
       "    <tr>\n",
       "      <th>46840</th>\n",
       "      <td>2023-11-08</td>\n",
       "      <td>14:11:12</td>\n",
       "      <td>Aigle botté</td>\n",
       "      <td>L</td>\n",
       "      <td>1</td>\n",
       "    </tr>\n",
       "  </tbody>\n",
       "</table>\n",
       "<p>454 rows × 5 columns</p>\n",
       "</div>"
      ],
      "text/plain": [
       "          date_dt timestamp      species plumage  direction1\n",
       "26     2011-01-09  16:50:00  Aigle botté       D           1\n",
       "5975   2016-09-21  10:23:59  Aigle botté       L           8\n",
       "5980   2016-09-21  10:24:09  Aigle botté       D           4\n",
       "5998   2016-09-22  10:30:31  Aigle botté       L           2\n",
       "6000   2016-09-22  10:30:26  Aigle botté       D           3\n",
       "...           ...       ...          ...     ...         ...\n",
       "45259  2023-09-29  14:21:33  Aigle botté       D           1\n",
       "45261  2023-09-29  13:27:37  Aigle botté       D           1\n",
       "45750  2023-10-09  14:29:19  Aigle botté       D           1\n",
       "46130  2023-10-16  16:15:29  Aigle botté       D           1\n",
       "46840  2023-11-08  14:11:12  Aigle botté       L           1\n",
       "\n",
       "[454 rows x 5 columns]"
      ]
     },
     "execution_count": 117,
     "metadata": {},
     "output_type": "execute_result"
    }
   ],
   "source": [
    "aigle_bote_plumage"
   ]
  },
  {
   "cell_type": "code",
   "execution_count": 118,
   "metadata": {},
   "outputs": [
    {
     "data": {
      "text/html": [
       "<div>\n",
       "<style scoped>\n",
       "    .dataframe tbody tr th:only-of-type {\n",
       "        vertical-align: middle;\n",
       "    }\n",
       "\n",
       "    .dataframe tbody tr th {\n",
       "        vertical-align: top;\n",
       "    }\n",
       "\n",
       "    .dataframe thead th {\n",
       "        text-align: right;\n",
       "    }\n",
       "</style>\n",
       "<table border=\"1\" class=\"dataframe\">\n",
       "  <thead>\n",
       "    <tr style=\"text-align: right;\">\n",
       "      <th></th>\n",
       "      <th>plumage</th>\n",
       "      <th>direction1</th>\n",
       "    </tr>\n",
       "  </thead>\n",
       "  <tbody>\n",
       "    <tr>\n",
       "      <th>0</th>\n",
       "      <td>D</td>\n",
       "      <td>193</td>\n",
       "    </tr>\n",
       "    <tr>\n",
       "      <th>1</th>\n",
       "      <td>I</td>\n",
       "      <td>5</td>\n",
       "    </tr>\n",
       "    <tr>\n",
       "      <th>2</th>\n",
       "      <td>L</td>\n",
       "      <td>303</td>\n",
       "    </tr>\n",
       "  </tbody>\n",
       "</table>\n",
       "</div>"
      ],
      "text/plain": [
       "  plumage  direction1\n",
       "0       D         193\n",
       "1       I           5\n",
       "2       L         303"
      ]
     },
     "execution_count": 118,
     "metadata": {},
     "output_type": "execute_result"
    }
   ],
   "source": [
    "n_obs_aigle_botte_plumage = aigle_bote_plumage.groupby(['plumage'])['direction1'].sum().reset_index()\n",
    "n_obs_aigle_botte_plumage"
   ]
  },
  {
   "cell_type": "code",
   "execution_count": 121,
   "metadata": {},
   "outputs": [
    {
     "data": {
      "text/plain": [
       "<Figure size 1000x500 with 0 Axes>"
      ]
     },
     "metadata": {},
     "output_type": "display_data"
    },
    {
     "data": {
      "image/png": "[encoded data removed]",
      "text/plain": [
       "<Figure size 640x480 with 1 Axes>"
      ]
     },
     "metadata": {},
     "output_type": "display_data"
    }
   ],
   "source": [
    "# Figure all years\n",
    "plt.figure(figsize=(10,5))\n",
    "\n",
    "fig, ax = plt.subplots();\n",
    "\n",
    "ax.pie(n_obs_aigle_bote_plumage.direction1,\n",
    "       labels=n_obs_aigle_bote_plumage.plumage,\n",
    "       labeldistance=1.15,\n",
    "       autopct='%1.1f%%',  # Add percentage labels\n",
    "       wedgeprops={'linewidth': 1.5, 'edgecolor': 'white'});\n",
    "\n",
    "plt.title(\"Proportion de type de plumage pour l'aigle botté en migration\", fontsize=10);\n",
    "\n",
    "plt.savefig('../figures/age_sex_plumage/plumage/prop_plumage_aigle_botté.png')"
   ]
  },
  {
   "cell_type": "code",
   "execution_count": null,
   "metadata": {},
   "outputs": [],
   "source": []
  }
 ],
 "metadata": {
  "kernelspec": {
   "display_name": "Python 3",
   "language": "python",
   "name": "python3"
  },
  "language_info": {
   "codemirror_mode": {
    "name": "ipython",
    "version": 3
   },
   "file_extension": ".py",
   "mimetype": "text/x-python",
   "name": "python",
   "nbconvert_exporter": "python",
   "pygments_lexer": "ipython3",
   "version": "3.10.6"
  }
 },
 "nbformat": 4,
 "nbformat_minor": 2
}
